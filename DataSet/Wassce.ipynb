{
 "cells": [
  {
   "cell_type": "markdown",
   "id": "9cfaf6f8",
   "metadata": {},
   "source": [
    "# THIS IS AN ANALYSIS ON STUDENT INTERNAL MARK AND WASSCE RESULTS FORM 2019 TO 2022"
   ]
  },
  {
   "cell_type": "markdown",
   "id": "3f24a24a",
   "metadata": {},
   "source": [
    "Import the various libraries to be use"
   ]
  },
  {
   "cell_type": "code",
   "execution_count": 117,
   "id": "cad01e3e",
   "metadata": {},
   "outputs": [],
   "source": [
    "import pandas as pd\n",
    "pd.options.mode.chained_assignment = None  # default='warn'\n",
    "import numpy as np\n",
    "import seaborn as sns\n",
    "import matplotlib.pyplot as plt\n",
    "%matplotlib inline"
   ]
  },
  {
   "cell_type": "markdown",
   "id": "fcbd0c8a",
   "metadata": {},
   "source": [
    "Load a CSV file"
   ]
  },
  {
   "cell_type": "code",
   "execution_count": 118,
   "id": "839689a4",
   "metadata": {},
   "outputs": [],
   "source": [
    "## Load the internal marks dataset\n",
    "internal_marks = pd.read_csv(\"internal.csv\")"
   ]
  },
  {
   "cell_type": "code",
   "execution_count": 119,
   "id": "e8b2ffde",
   "metadata": {},
   "outputs": [
    {
     "data": {
      "text/html": [
       "<div>\n",
       "<style scoped>\n",
       "    .dataframe tbody tr th:only-of-type {\n",
       "        vertical-align: middle;\n",
       "    }\n",
       "\n",
       "    .dataframe tbody tr th {\n",
       "        vertical-align: top;\n",
       "    }\n",
       "\n",
       "    .dataframe thead th {\n",
       "        text-align: right;\n",
       "    }\n",
       "</style>\n",
       "<table border=\"1\" class=\"dataframe\">\n",
       "  <thead>\n",
       "    <tr style=\"text-align: right;\">\n",
       "      <th></th>\n",
       "      <th>INDEX NO.</th>\n",
       "      <th>f1_eng</th>\n",
       "      <th>f2_eng</th>\n",
       "      <th>f3_eng</th>\n",
       "      <th>f1_math</th>\n",
       "      <th>f2_math</th>\n",
       "      <th>f3_math</th>\n",
       "      <th>f1_sci</th>\n",
       "      <th>f2_sci</th>\n",
       "      <th>f3_sci</th>\n",
       "    </tr>\n",
       "  </thead>\n",
       "  <tbody>\n",
       "    <tr>\n",
       "      <th>0</th>\n",
       "      <td>2040900119</td>\n",
       "      <td>45.0</td>\n",
       "      <td>41.0</td>\n",
       "      <td>44.0</td>\n",
       "      <td>51.0</td>\n",
       "      <td>47.0</td>\n",
       "      <td>41.0</td>\n",
       "      <td>40.0</td>\n",
       "      <td>45.0</td>\n",
       "      <td>69.0</td>\n",
       "    </tr>\n",
       "    <tr>\n",
       "      <th>1</th>\n",
       "      <td>2040900219</td>\n",
       "      <td>56.0</td>\n",
       "      <td>57.0</td>\n",
       "      <td>60.0</td>\n",
       "      <td>52.0</td>\n",
       "      <td>44.0</td>\n",
       "      <td>51.0</td>\n",
       "      <td>43.0</td>\n",
       "      <td>54.0</td>\n",
       "      <td>55.0</td>\n",
       "    </tr>\n",
       "    <tr>\n",
       "      <th>2</th>\n",
       "      <td>2040900319</td>\n",
       "      <td>41.0</td>\n",
       "      <td>45.0</td>\n",
       "      <td>54.0</td>\n",
       "      <td>42.0</td>\n",
       "      <td>54.0</td>\n",
       "      <td>44.0</td>\n",
       "      <td>48.0</td>\n",
       "      <td>52.0</td>\n",
       "      <td>42.0</td>\n",
       "    </tr>\n",
       "    <tr>\n",
       "      <th>3</th>\n",
       "      <td>2040900419</td>\n",
       "      <td>43.0</td>\n",
       "      <td>40.0</td>\n",
       "      <td>41.0</td>\n",
       "      <td>43.0</td>\n",
       "      <td>51.0</td>\n",
       "      <td>43.0</td>\n",
       "      <td>39.0</td>\n",
       "      <td>45.0</td>\n",
       "      <td>44.0</td>\n",
       "    </tr>\n",
       "    <tr>\n",
       "      <th>4</th>\n",
       "      <td>2040900519</td>\n",
       "      <td>55.0</td>\n",
       "      <td>54.0</td>\n",
       "      <td>45.0</td>\n",
       "      <td>66.0</td>\n",
       "      <td>55.0</td>\n",
       "      <td>52.0</td>\n",
       "      <td>62.0</td>\n",
       "      <td>60.0</td>\n",
       "      <td>45.0</td>\n",
       "    </tr>\n",
       "  </tbody>\n",
       "</table>\n",
       "</div>"
      ],
      "text/plain": [
       "    INDEX NO.  f1_eng  f2_eng  f3_eng  f1_math  f2_math  f3_math  f1_sci  \\\n",
       "0  2040900119    45.0    41.0    44.0     51.0     47.0     41.0    40.0   \n",
       "1  2040900219    56.0    57.0    60.0     52.0     44.0     51.0    43.0   \n",
       "2  2040900319    41.0    45.0    54.0     42.0     54.0     44.0    48.0   \n",
       "3  2040900419    43.0    40.0    41.0     43.0     51.0     43.0    39.0   \n",
       "4  2040900519    55.0    54.0    45.0     66.0     55.0     52.0    62.0   \n",
       "\n",
       "   f2_sci  f3_sci  \n",
       "0    45.0    69.0  \n",
       "1    54.0    55.0  \n",
       "2    52.0    42.0  \n",
       "3    45.0    44.0  \n",
       "4    60.0    45.0  "
      ]
     },
     "execution_count": 119,
     "metadata": {},
     "output_type": "execute_result"
    }
   ],
   "source": [
    "internal_marks.head()"
   ]
  },
  {
   "cell_type": "code",
   "execution_count": 120,
   "id": "2cc2e299",
   "metadata": {},
   "outputs": [],
   "source": [
    "## Load the wassce results dataset\n",
    "wassce_grade = pd.read_csv(\"waccse.csv\")"
   ]
  },
  {
   "cell_type": "code",
   "execution_count": 121,
   "id": "a15c4620",
   "metadata": {},
   "outputs": [
    {
     "data": {
      "text/html": [
       "<div>\n",
       "<style scoped>\n",
       "    .dataframe tbody tr th:only-of-type {\n",
       "        vertical-align: middle;\n",
       "    }\n",
       "\n",
       "    .dataframe tbody tr th {\n",
       "        vertical-align: top;\n",
       "    }\n",
       "\n",
       "    .dataframe thead th {\n",
       "        text-align: right;\n",
       "    }\n",
       "</style>\n",
       "<table border=\"1\" class=\"dataframe\">\n",
       "  <thead>\n",
       "    <tr style=\"text-align: right;\">\n",
       "      <th></th>\n",
       "      <th>INDEX NO.</th>\n",
       "      <th>Year</th>\n",
       "      <th>GENDER</th>\n",
       "      <th>PROGRAM</th>\n",
       "      <th>ENGLISH</th>\n",
       "      <th>MATHEMATICS</th>\n",
       "      <th>INT.SCI</th>\n",
       "    </tr>\n",
       "  </thead>\n",
       "  <tbody>\n",
       "    <tr>\n",
       "      <th>0</th>\n",
       "      <td>2040900119</td>\n",
       "      <td>2019</td>\n",
       "      <td>F</td>\n",
       "      <td>G/A</td>\n",
       "      <td>B2</td>\n",
       "      <td>D7</td>\n",
       "      <td>B3</td>\n",
       "    </tr>\n",
       "    <tr>\n",
       "      <th>1</th>\n",
       "      <td>2040900219</td>\n",
       "      <td>2019</td>\n",
       "      <td>F</td>\n",
       "      <td>G/A</td>\n",
       "      <td>C5</td>\n",
       "      <td>B3</td>\n",
       "      <td>B3</td>\n",
       "    </tr>\n",
       "    <tr>\n",
       "      <th>2</th>\n",
       "      <td>2040900319</td>\n",
       "      <td>2019</td>\n",
       "      <td>F</td>\n",
       "      <td>G/A</td>\n",
       "      <td>C4</td>\n",
       "      <td>B3</td>\n",
       "      <td>B2</td>\n",
       "    </tr>\n",
       "    <tr>\n",
       "      <th>3</th>\n",
       "      <td>2040900419</td>\n",
       "      <td>2019</td>\n",
       "      <td>M</td>\n",
       "      <td>G/A</td>\n",
       "      <td>E8</td>\n",
       "      <td>D7</td>\n",
       "      <td>C4</td>\n",
       "    </tr>\n",
       "    <tr>\n",
       "      <th>4</th>\n",
       "      <td>2040900519</td>\n",
       "      <td>2019</td>\n",
       "      <td>M</td>\n",
       "      <td>G/A</td>\n",
       "      <td>F9</td>\n",
       "      <td>D7</td>\n",
       "      <td>C6</td>\n",
       "    </tr>\n",
       "  </tbody>\n",
       "</table>\n",
       "</div>"
      ],
      "text/plain": [
       "    INDEX NO.  Year GENDER PROGRAM ENGLISH MATHEMATICS INT.SCI\n",
       "0  2040900119  2019      F     G/A      B2          D7      B3\n",
       "1  2040900219  2019      F     G/A      C5          B3      B3\n",
       "2  2040900319  2019      F     G/A      C4          B3      B2\n",
       "3  2040900419  2019      M     G/A      E8          D7      C4\n",
       "4  2040900519  2019      M     G/A      F9          D7      C6"
      ]
     },
     "execution_count": 121,
     "metadata": {},
     "output_type": "execute_result"
    }
   ],
   "source": [
    "wassce_grade.head()"
   ]
  },
  {
   "cell_type": "code",
   "execution_count": 122,
   "id": "b6f06d57",
   "metadata": {},
   "outputs": [],
   "source": [
    "# using merge function by setting how='outer' \n",
    "\n",
    "full_table = pd.merge(internal_marks, wassce_grade,  \n",
    "\n",
    "                   on='INDEX NO.',  \n",
    "\n",
    "                   how='outer')"
   ]
  },
  {
   "cell_type": "code",
   "execution_count": 123,
   "id": "0a66973c",
   "metadata": {},
   "outputs": [
    {
     "data": {
      "text/html": [
       "<div>\n",
       "<style scoped>\n",
       "    .dataframe tbody tr th:only-of-type {\n",
       "        vertical-align: middle;\n",
       "    }\n",
       "\n",
       "    .dataframe tbody tr th {\n",
       "        vertical-align: top;\n",
       "    }\n",
       "\n",
       "    .dataframe thead th {\n",
       "        text-align: right;\n",
       "    }\n",
       "</style>\n",
       "<table border=\"1\" class=\"dataframe\">\n",
       "  <thead>\n",
       "    <tr style=\"text-align: right;\">\n",
       "      <th></th>\n",
       "      <th>INDEX NO.</th>\n",
       "      <th>f1_eng</th>\n",
       "      <th>f2_eng</th>\n",
       "      <th>f3_eng</th>\n",
       "      <th>f1_math</th>\n",
       "      <th>f2_math</th>\n",
       "      <th>f3_math</th>\n",
       "      <th>f1_sci</th>\n",
       "      <th>f2_sci</th>\n",
       "      <th>f3_sci</th>\n",
       "      <th>Year</th>\n",
       "      <th>GENDER</th>\n",
       "      <th>PROGRAM</th>\n",
       "      <th>ENGLISH</th>\n",
       "      <th>MATHEMATICS</th>\n",
       "      <th>INT.SCI</th>\n",
       "    </tr>\n",
       "  </thead>\n",
       "  <tbody>\n",
       "    <tr>\n",
       "      <th>0</th>\n",
       "      <td>2040900119</td>\n",
       "      <td>45.0</td>\n",
       "      <td>41.0</td>\n",
       "      <td>44.0</td>\n",
       "      <td>51.0</td>\n",
       "      <td>47.0</td>\n",
       "      <td>41.0</td>\n",
       "      <td>40.0</td>\n",
       "      <td>45.0</td>\n",
       "      <td>69.0</td>\n",
       "      <td>2019.0</td>\n",
       "      <td>F</td>\n",
       "      <td>G/A</td>\n",
       "      <td>B2</td>\n",
       "      <td>D7</td>\n",
       "      <td>B3</td>\n",
       "    </tr>\n",
       "    <tr>\n",
       "      <th>1</th>\n",
       "      <td>2040900219</td>\n",
       "      <td>56.0</td>\n",
       "      <td>57.0</td>\n",
       "      <td>60.0</td>\n",
       "      <td>52.0</td>\n",
       "      <td>44.0</td>\n",
       "      <td>51.0</td>\n",
       "      <td>43.0</td>\n",
       "      <td>54.0</td>\n",
       "      <td>55.0</td>\n",
       "      <td>2019.0</td>\n",
       "      <td>F</td>\n",
       "      <td>G/A</td>\n",
       "      <td>C5</td>\n",
       "      <td>B3</td>\n",
       "      <td>B3</td>\n",
       "    </tr>\n",
       "    <tr>\n",
       "      <th>2</th>\n",
       "      <td>2040900319</td>\n",
       "      <td>41.0</td>\n",
       "      <td>45.0</td>\n",
       "      <td>54.0</td>\n",
       "      <td>42.0</td>\n",
       "      <td>54.0</td>\n",
       "      <td>44.0</td>\n",
       "      <td>48.0</td>\n",
       "      <td>52.0</td>\n",
       "      <td>42.0</td>\n",
       "      <td>2019.0</td>\n",
       "      <td>F</td>\n",
       "      <td>G/A</td>\n",
       "      <td>C4</td>\n",
       "      <td>B3</td>\n",
       "      <td>B2</td>\n",
       "    </tr>\n",
       "    <tr>\n",
       "      <th>3</th>\n",
       "      <td>2040900419</td>\n",
       "      <td>43.0</td>\n",
       "      <td>40.0</td>\n",
       "      <td>41.0</td>\n",
       "      <td>43.0</td>\n",
       "      <td>51.0</td>\n",
       "      <td>43.0</td>\n",
       "      <td>39.0</td>\n",
       "      <td>45.0</td>\n",
       "      <td>44.0</td>\n",
       "      <td>2019.0</td>\n",
       "      <td>M</td>\n",
       "      <td>G/A</td>\n",
       "      <td>E8</td>\n",
       "      <td>D7</td>\n",
       "      <td>C4</td>\n",
       "    </tr>\n",
       "    <tr>\n",
       "      <th>4</th>\n",
       "      <td>2040900519</td>\n",
       "      <td>55.0</td>\n",
       "      <td>54.0</td>\n",
       "      <td>45.0</td>\n",
       "      <td>66.0</td>\n",
       "      <td>55.0</td>\n",
       "      <td>52.0</td>\n",
       "      <td>62.0</td>\n",
       "      <td>60.0</td>\n",
       "      <td>45.0</td>\n",
       "      <td>2019.0</td>\n",
       "      <td>M</td>\n",
       "      <td>G/A</td>\n",
       "      <td>F9</td>\n",
       "      <td>D7</td>\n",
       "      <td>C6</td>\n",
       "    </tr>\n",
       "  </tbody>\n",
       "</table>\n",
       "</div>"
      ],
      "text/plain": [
       "    INDEX NO.  f1_eng  f2_eng  f3_eng  f1_math  f2_math  f3_math  f1_sci  \\\n",
       "0  2040900119    45.0    41.0    44.0     51.0     47.0     41.0    40.0   \n",
       "1  2040900219    56.0    57.0    60.0     52.0     44.0     51.0    43.0   \n",
       "2  2040900319    41.0    45.0    54.0     42.0     54.0     44.0    48.0   \n",
       "3  2040900419    43.0    40.0    41.0     43.0     51.0     43.0    39.0   \n",
       "4  2040900519    55.0    54.0    45.0     66.0     55.0     52.0    62.0   \n",
       "\n",
       "   f2_sci  f3_sci    Year GENDER PROGRAM ENGLISH MATHEMATICS INT.SCI  \n",
       "0    45.0    69.0  2019.0      F     G/A      B2          D7      B3  \n",
       "1    54.0    55.0  2019.0      F     G/A      C5          B3      B3  \n",
       "2    52.0    42.0  2019.0      F     G/A      C4          B3      B2  \n",
       "3    45.0    44.0  2019.0      M     G/A      E8          D7      C4  \n",
       "4    60.0    45.0  2019.0      M     G/A      F9          D7      C6  "
      ]
     },
     "execution_count": 123,
     "metadata": {},
     "output_type": "execute_result"
    }
   ],
   "source": [
    "full_table.head()"
   ]
  },
  {
   "cell_type": "code",
   "execution_count": 124,
   "id": "90b3cdb2",
   "metadata": {},
   "outputs": [
    {
     "data": {
      "text/html": [
       "<div>\n",
       "<style scoped>\n",
       "    .dataframe tbody tr th:only-of-type {\n",
       "        vertical-align: middle;\n",
       "    }\n",
       "\n",
       "    .dataframe tbody tr th {\n",
       "        vertical-align: top;\n",
       "    }\n",
       "\n",
       "    .dataframe thead th {\n",
       "        text-align: right;\n",
       "    }\n",
       "</style>\n",
       "<table border=\"1\" class=\"dataframe\">\n",
       "  <thead>\n",
       "    <tr style=\"text-align: right;\">\n",
       "      <th></th>\n",
       "      <th>INDEX NO.</th>\n",
       "      <th>f1_eng</th>\n",
       "      <th>f2_eng</th>\n",
       "      <th>f3_eng</th>\n",
       "      <th>f1_math</th>\n",
       "      <th>f2_math</th>\n",
       "      <th>f3_math</th>\n",
       "      <th>f1_sci</th>\n",
       "      <th>f2_sci</th>\n",
       "      <th>f3_sci</th>\n",
       "      <th>Year</th>\n",
       "      <th>GENDER</th>\n",
       "      <th>PROGRAM</th>\n",
       "      <th>ENGLISH</th>\n",
       "      <th>MATHEMATICS</th>\n",
       "      <th>INT.SCI</th>\n",
       "    </tr>\n",
       "  </thead>\n",
       "  <tbody>\n",
       "    <tr>\n",
       "      <th>1109</th>\n",
       "      <td>2040930021</td>\n",
       "      <td>NaN</td>\n",
       "      <td>NaN</td>\n",
       "      <td>NaN</td>\n",
       "      <td>NaN</td>\n",
       "      <td>NaN</td>\n",
       "      <td>NaN</td>\n",
       "      <td>NaN</td>\n",
       "      <td>NaN</td>\n",
       "      <td>NaN</td>\n",
       "      <td>2021.0</td>\n",
       "      <td>F</td>\n",
       "      <td>BUS</td>\n",
       "      <td>C5</td>\n",
       "      <td>C6</td>\n",
       "      <td>C5</td>\n",
       "    </tr>\n",
       "    <tr>\n",
       "      <th>1110</th>\n",
       "      <td>20409324201</td>\n",
       "      <td>NaN</td>\n",
       "      <td>NaN</td>\n",
       "      <td>NaN</td>\n",
       "      <td>NaN</td>\n",
       "      <td>NaN</td>\n",
       "      <td>NaN</td>\n",
       "      <td>NaN</td>\n",
       "      <td>NaN</td>\n",
       "      <td>NaN</td>\n",
       "      <td>2021.0</td>\n",
       "      <td>F</td>\n",
       "      <td>H/E</td>\n",
       "      <td>F9</td>\n",
       "      <td>F9</td>\n",
       "      <td>E8</td>\n",
       "    </tr>\n",
       "    <tr>\n",
       "      <th>1111</th>\n",
       "      <td>2040933921</td>\n",
       "      <td>NaN</td>\n",
       "      <td>NaN</td>\n",
       "      <td>NaN</td>\n",
       "      <td>NaN</td>\n",
       "      <td>NaN</td>\n",
       "      <td>NaN</td>\n",
       "      <td>NaN</td>\n",
       "      <td>NaN</td>\n",
       "      <td>NaN</td>\n",
       "      <td>2021.0</td>\n",
       "      <td>F</td>\n",
       "      <td>H/E</td>\n",
       "      <td>F9</td>\n",
       "      <td>F9</td>\n",
       "      <td>E8</td>\n",
       "    </tr>\n",
       "    <tr>\n",
       "      <th>1112</th>\n",
       "      <td>2040934421</td>\n",
       "      <td>NaN</td>\n",
       "      <td>NaN</td>\n",
       "      <td>NaN</td>\n",
       "      <td>NaN</td>\n",
       "      <td>NaN</td>\n",
       "      <td>NaN</td>\n",
       "      <td>NaN</td>\n",
       "      <td>NaN</td>\n",
       "      <td>NaN</td>\n",
       "      <td>2021.0</td>\n",
       "      <td>F</td>\n",
       "      <td>BUS</td>\n",
       "      <td>D7</td>\n",
       "      <td>F9</td>\n",
       "      <td>D7</td>\n",
       "    </tr>\n",
       "    <tr>\n",
       "      <th>1113</th>\n",
       "      <td>20409236721</td>\n",
       "      <td>NaN</td>\n",
       "      <td>NaN</td>\n",
       "      <td>NaN</td>\n",
       "      <td>NaN</td>\n",
       "      <td>NaN</td>\n",
       "      <td>NaN</td>\n",
       "      <td>NaN</td>\n",
       "      <td>NaN</td>\n",
       "      <td>NaN</td>\n",
       "      <td>2021.0</td>\n",
       "      <td>F</td>\n",
       "      <td>G/A</td>\n",
       "      <td>F9</td>\n",
       "      <td>F9</td>\n",
       "      <td>E8</td>\n",
       "    </tr>\n",
       "  </tbody>\n",
       "</table>\n",
       "</div>"
      ],
      "text/plain": [
       "        INDEX NO.  f1_eng  f2_eng  f3_eng  f1_math  f2_math  f3_math  f1_sci  \\\n",
       "1109   2040930021     NaN     NaN     NaN      NaN      NaN      NaN     NaN   \n",
       "1110  20409324201     NaN     NaN     NaN      NaN      NaN      NaN     NaN   \n",
       "1111   2040933921     NaN     NaN     NaN      NaN      NaN      NaN     NaN   \n",
       "1112   2040934421     NaN     NaN     NaN      NaN      NaN      NaN     NaN   \n",
       "1113  20409236721     NaN     NaN     NaN      NaN      NaN      NaN     NaN   \n",
       "\n",
       "      f2_sci  f3_sci    Year GENDER PROGRAM ENGLISH MATHEMATICS INT.SCI  \n",
       "1109     NaN     NaN  2021.0      F     BUS      C5          C6      C5  \n",
       "1110     NaN     NaN  2021.0      F     H/E      F9          F9      E8  \n",
       "1111     NaN     NaN  2021.0      F     H/E      F9          F9      E8  \n",
       "1112     NaN     NaN  2021.0      F     BUS      D7          F9      D7  \n",
       "1113     NaN     NaN  2021.0      F     G/A      F9          F9      E8  "
      ]
     },
     "execution_count": 124,
     "metadata": {},
     "output_type": "execute_result"
    }
   ],
   "source": [
    "full_table.tail()"
   ]
  },
  {
   "cell_type": "code",
   "execution_count": 125,
   "id": "4a4294d0",
   "metadata": {},
   "outputs": [
    {
     "name": "stdout",
     "output_type": "stream",
     "text": [
      "<class 'pandas.core.frame.DataFrame'>\n",
      "Int64Index: 1114 entries, 0 to 1113\n",
      "Data columns (total 16 columns):\n",
      " #   Column       Non-Null Count  Dtype  \n",
      "---  ------       --------------  -----  \n",
      " 0   INDEX NO.    1114 non-null   int64  \n",
      " 1   f1_eng       1091 non-null   float64\n",
      " 2   f2_eng       1091 non-null   float64\n",
      " 3   f3_eng       1091 non-null   float64\n",
      " 4   f1_math      1091 non-null   float64\n",
      " 5   f2_math      1091 non-null   float64\n",
      " 6   f3_math      1091 non-null   float64\n",
      " 7   f1_sci       1091 non-null   float64\n",
      " 8   f2_sci       1091 non-null   float64\n",
      " 9   f3_sci       1091 non-null   float64\n",
      " 10  Year         1093 non-null   float64\n",
      " 11  GENDER       1093 non-null   object \n",
      " 12  PROGRAM      1093 non-null   object \n",
      " 13  ENGLISH      1093 non-null   object \n",
      " 14  MATHEMATICS  1093 non-null   object \n",
      " 15  INT.SCI      1093 non-null   object \n",
      "dtypes: float64(10), int64(1), object(5)\n",
      "memory usage: 148.0+ KB\n"
     ]
    }
   ],
   "source": [
    "## Get information about the data\n",
    "full_table.info()"
   ]
  },
  {
   "cell_type": "markdown",
   "id": "9c4e5e96",
   "metadata": {},
   "source": [
    "## CLEANING THE DATA"
   ]
  },
  {
   "cell_type": "code",
   "execution_count": 126,
   "id": "2df0f7b4",
   "metadata": {},
   "outputs": [
    {
     "data": {
      "text/html": [
       "<div>\n",
       "<style scoped>\n",
       "    .dataframe tbody tr th:only-of-type {\n",
       "        vertical-align: middle;\n",
       "    }\n",
       "\n",
       "    .dataframe tbody tr th {\n",
       "        vertical-align: top;\n",
       "    }\n",
       "\n",
       "    .dataframe thead th {\n",
       "        text-align: right;\n",
       "    }\n",
       "</style>\n",
       "<table border=\"1\" class=\"dataframe\">\n",
       "  <thead>\n",
       "    <tr style=\"text-align: right;\">\n",
       "      <th></th>\n",
       "      <th>INDEX NO.</th>\n",
       "      <th>f1_eng</th>\n",
       "      <th>f2_eng</th>\n",
       "      <th>f3_eng</th>\n",
       "      <th>f1_math</th>\n",
       "      <th>f2_math</th>\n",
       "      <th>f3_math</th>\n",
       "      <th>f1_sci</th>\n",
       "      <th>f2_sci</th>\n",
       "      <th>f3_sci</th>\n",
       "      <th>Year</th>\n",
       "      <th>GENDER</th>\n",
       "      <th>PROGRAM</th>\n",
       "      <th>ENGLISH</th>\n",
       "      <th>MATHEMATICS</th>\n",
       "      <th>INT.SCI</th>\n",
       "    </tr>\n",
       "  </thead>\n",
       "  <tbody>\n",
       "    <tr>\n",
       "      <th>0</th>\n",
       "      <td>2040900119</td>\n",
       "      <td>45.0</td>\n",
       "      <td>41.0</td>\n",
       "      <td>44.0</td>\n",
       "      <td>51.0</td>\n",
       "      <td>47.0</td>\n",
       "      <td>41.0</td>\n",
       "      <td>40.0</td>\n",
       "      <td>45.0</td>\n",
       "      <td>69.0</td>\n",
       "      <td>2019.0</td>\n",
       "      <td>F</td>\n",
       "      <td>G/A</td>\n",
       "      <td>B2</td>\n",
       "      <td>D7</td>\n",
       "      <td>B3</td>\n",
       "    </tr>\n",
       "    <tr>\n",
       "      <th>1</th>\n",
       "      <td>2040900219</td>\n",
       "      <td>56.0</td>\n",
       "      <td>57.0</td>\n",
       "      <td>60.0</td>\n",
       "      <td>52.0</td>\n",
       "      <td>44.0</td>\n",
       "      <td>51.0</td>\n",
       "      <td>43.0</td>\n",
       "      <td>54.0</td>\n",
       "      <td>55.0</td>\n",
       "      <td>2019.0</td>\n",
       "      <td>F</td>\n",
       "      <td>G/A</td>\n",
       "      <td>C5</td>\n",
       "      <td>B3</td>\n",
       "      <td>B3</td>\n",
       "    </tr>\n",
       "    <tr>\n",
       "      <th>2</th>\n",
       "      <td>2040900319</td>\n",
       "      <td>41.0</td>\n",
       "      <td>45.0</td>\n",
       "      <td>54.0</td>\n",
       "      <td>42.0</td>\n",
       "      <td>54.0</td>\n",
       "      <td>44.0</td>\n",
       "      <td>48.0</td>\n",
       "      <td>52.0</td>\n",
       "      <td>42.0</td>\n",
       "      <td>2019.0</td>\n",
       "      <td>F</td>\n",
       "      <td>G/A</td>\n",
       "      <td>C4</td>\n",
       "      <td>B3</td>\n",
       "      <td>B2</td>\n",
       "    </tr>\n",
       "    <tr>\n",
       "      <th>3</th>\n",
       "      <td>2040900419</td>\n",
       "      <td>43.0</td>\n",
       "      <td>40.0</td>\n",
       "      <td>41.0</td>\n",
       "      <td>43.0</td>\n",
       "      <td>51.0</td>\n",
       "      <td>43.0</td>\n",
       "      <td>39.0</td>\n",
       "      <td>45.0</td>\n",
       "      <td>44.0</td>\n",
       "      <td>2019.0</td>\n",
       "      <td>M</td>\n",
       "      <td>G/A</td>\n",
       "      <td>E8</td>\n",
       "      <td>D7</td>\n",
       "      <td>C4</td>\n",
       "    </tr>\n",
       "    <tr>\n",
       "      <th>4</th>\n",
       "      <td>2040900519</td>\n",
       "      <td>55.0</td>\n",
       "      <td>54.0</td>\n",
       "      <td>45.0</td>\n",
       "      <td>66.0</td>\n",
       "      <td>55.0</td>\n",
       "      <td>52.0</td>\n",
       "      <td>62.0</td>\n",
       "      <td>60.0</td>\n",
       "      <td>45.0</td>\n",
       "      <td>2019.0</td>\n",
       "      <td>M</td>\n",
       "      <td>G/A</td>\n",
       "      <td>F9</td>\n",
       "      <td>D7</td>\n",
       "      <td>C6</td>\n",
       "    </tr>\n",
       "    <tr>\n",
       "      <th>...</th>\n",
       "      <td>...</td>\n",
       "      <td>...</td>\n",
       "      <td>...</td>\n",
       "      <td>...</td>\n",
       "      <td>...</td>\n",
       "      <td>...</td>\n",
       "      <td>...</td>\n",
       "      <td>...</td>\n",
       "      <td>...</td>\n",
       "      <td>...</td>\n",
       "      <td>...</td>\n",
       "      <td>...</td>\n",
       "      <td>...</td>\n",
       "      <td>...</td>\n",
       "      <td>...</td>\n",
       "      <td>...</td>\n",
       "    </tr>\n",
       "    <tr>\n",
       "      <th>1087</th>\n",
       "      <td>2040936221</td>\n",
       "      <td>45.0</td>\n",
       "      <td>43.0</td>\n",
       "      <td>30.0</td>\n",
       "      <td>56.0</td>\n",
       "      <td>49.0</td>\n",
       "      <td>30.0</td>\n",
       "      <td>50.0</td>\n",
       "      <td>48.0</td>\n",
       "      <td>44.0</td>\n",
       "      <td>2021.0</td>\n",
       "      <td>M</td>\n",
       "      <td>G/A</td>\n",
       "      <td>F9</td>\n",
       "      <td>F9</td>\n",
       "      <td>E8</td>\n",
       "    </tr>\n",
       "    <tr>\n",
       "      <th>1088</th>\n",
       "      <td>2040936321</td>\n",
       "      <td>56.0</td>\n",
       "      <td>45.0</td>\n",
       "      <td>41.0</td>\n",
       "      <td>77.0</td>\n",
       "      <td>76.0</td>\n",
       "      <td>74.0</td>\n",
       "      <td>67.0</td>\n",
       "      <td>55.0</td>\n",
       "      <td>56.0</td>\n",
       "      <td>2021.0</td>\n",
       "      <td>F</td>\n",
       "      <td>H/E</td>\n",
       "      <td>F9</td>\n",
       "      <td>F9</td>\n",
       "      <td>D7</td>\n",
       "    </tr>\n",
       "    <tr>\n",
       "      <th>1089</th>\n",
       "      <td>2040936421</td>\n",
       "      <td>67.0</td>\n",
       "      <td>66.0</td>\n",
       "      <td>55.0</td>\n",
       "      <td>48.0</td>\n",
       "      <td>47.0</td>\n",
       "      <td>49.0</td>\n",
       "      <td>51.0</td>\n",
       "      <td>41.0</td>\n",
       "      <td>30.0</td>\n",
       "      <td>2021.0</td>\n",
       "      <td>F</td>\n",
       "      <td>G/A</td>\n",
       "      <td>F9</td>\n",
       "      <td>E8</td>\n",
       "      <td>D7</td>\n",
       "    </tr>\n",
       "    <tr>\n",
       "      <th>1090</th>\n",
       "      <td>2040936521</td>\n",
       "      <td>34.0</td>\n",
       "      <td>44.0</td>\n",
       "      <td>19.0</td>\n",
       "      <td>37.0</td>\n",
       "      <td>38.0</td>\n",
       "      <td>34.0</td>\n",
       "      <td>42.0</td>\n",
       "      <td>23.0</td>\n",
       "      <td>20.0</td>\n",
       "      <td>2021.0</td>\n",
       "      <td>F</td>\n",
       "      <td>G/A</td>\n",
       "      <td>E8</td>\n",
       "      <td>F9</td>\n",
       "      <td>D7</td>\n",
       "    </tr>\n",
       "    <tr>\n",
       "      <th>1091</th>\n",
       "      <td>2040936621</td>\n",
       "      <td>21.0</td>\n",
       "      <td>24.0</td>\n",
       "      <td>45.0</td>\n",
       "      <td>34.0</td>\n",
       "      <td>47.0</td>\n",
       "      <td>35.0</td>\n",
       "      <td>41.0</td>\n",
       "      <td>33.0</td>\n",
       "      <td>38.0</td>\n",
       "      <td>2021.0</td>\n",
       "      <td>M</td>\n",
       "      <td>G/A</td>\n",
       "      <td>E8</td>\n",
       "      <td>F9</td>\n",
       "      <td>D7</td>\n",
       "    </tr>\n",
       "  </tbody>\n",
       "</table>\n",
       "<p>1071 rows × 16 columns</p>\n",
       "</div>"
      ],
      "text/plain": [
       "       INDEX NO.  f1_eng  f2_eng  f3_eng  f1_math  f2_math  f3_math  f1_sci  \\\n",
       "0     2040900119    45.0    41.0    44.0     51.0     47.0     41.0    40.0   \n",
       "1     2040900219    56.0    57.0    60.0     52.0     44.0     51.0    43.0   \n",
       "2     2040900319    41.0    45.0    54.0     42.0     54.0     44.0    48.0   \n",
       "3     2040900419    43.0    40.0    41.0     43.0     51.0     43.0    39.0   \n",
       "4     2040900519    55.0    54.0    45.0     66.0     55.0     52.0    62.0   \n",
       "...          ...     ...     ...     ...      ...      ...      ...     ...   \n",
       "1087  2040936221    45.0    43.0    30.0     56.0     49.0     30.0    50.0   \n",
       "1088  2040936321    56.0    45.0    41.0     77.0     76.0     74.0    67.0   \n",
       "1089  2040936421    67.0    66.0    55.0     48.0     47.0     49.0    51.0   \n",
       "1090  2040936521    34.0    44.0    19.0     37.0     38.0     34.0    42.0   \n",
       "1091  2040936621    21.0    24.0    45.0     34.0     47.0     35.0    41.0   \n",
       "\n",
       "      f2_sci  f3_sci    Year GENDER PROGRAM ENGLISH MATHEMATICS INT.SCI  \n",
       "0       45.0    69.0  2019.0      F     G/A      B2          D7      B3  \n",
       "1       54.0    55.0  2019.0      F     G/A      C5          B3      B3  \n",
       "2       52.0    42.0  2019.0      F     G/A      C4          B3      B2  \n",
       "3       45.0    44.0  2019.0      M     G/A      E8          D7      C4  \n",
       "4       60.0    45.0  2019.0      M     G/A      F9          D7      C6  \n",
       "...      ...     ...     ...    ...     ...     ...         ...     ...  \n",
       "1087    48.0    44.0  2021.0      M     G/A      F9          F9      E8  \n",
       "1088    55.0    56.0  2021.0      F     H/E      F9          F9      D7  \n",
       "1089    41.0    30.0  2021.0      F     G/A      F9          E8      D7  \n",
       "1090    23.0    20.0  2021.0      F     G/A      E8          F9      D7  \n",
       "1091    33.0    38.0  2021.0      M     G/A      E8          F9      D7  \n",
       "\n",
       "[1071 rows x 16 columns]"
      ]
     },
     "execution_count": 126,
     "metadata": {},
     "output_type": "execute_result"
    }
   ],
   "source": [
    "## let drop the Nan and Na\n",
    "full_table.dropna(inplace=True)\n",
    "full_table"
   ]
  },
  {
   "cell_type": "code",
   "execution_count": 127,
   "id": "477aefe3",
   "metadata": {},
   "outputs": [
    {
     "data": {
      "text/plain": [
       "INDEX NO.      979\n",
       "f1_eng          55\n",
       "f2_eng          62\n",
       "f3_eng          59\n",
       "f1_math         55\n",
       "f2_math         61\n",
       "f3_math         58\n",
       "f1_sci          59\n",
       "f2_sci          61\n",
       "f3_sci          60\n",
       "Year             3\n",
       "GENDER           2\n",
       "PROGRAM          6\n",
       "ENGLISH         12\n",
       "MATHEMATICS     12\n",
       "INT.SCI         12\n",
       "dtype: int64"
      ]
     },
     "execution_count": 127,
     "metadata": {},
     "output_type": "execute_result"
    }
   ],
   "source": [
    "##Find the unique values\n",
    "full_table.nunique()"
   ]
  },
  {
   "cell_type": "code",
   "execution_count": 128,
   "id": "b62c0a95",
   "metadata": {},
   "outputs": [
    {
     "data": {
      "text/plain": [
       "array(['B2', 'C5', 'C4', 'E8', 'F9', 'C6', 'D7', 'B3', 'XX', 'E', 'X',\n",
       "       'F9 '], dtype=object)"
      ]
     },
     "execution_count": 128,
     "metadata": {},
     "output_type": "execute_result"
    }
   ],
   "source": [
    "full_table[\"ENGLISH\"].unique()"
   ]
  },
  {
   "cell_type": "code",
   "execution_count": 129,
   "id": "236e2f1b",
   "metadata": {},
   "outputs": [
    {
     "name": "stdout",
     "output_type": "stream",
     "text": [
      "[389]\n",
      "[200]\n"
     ]
    }
   ],
   "source": [
    "print(full_table[full_table[\"ENGLISH\"]==\"F9 \"].index.values)\n",
    "print(full_table[full_table[\"ENGLISH\"]==\"E\"].index.values)"
   ]
  },
  {
   "cell_type": "code",
   "execution_count": null,
   "id": "6f0162ee",
   "metadata": {
    "scrolled": true
   },
   "outputs": [],
   "source": []
  },
  {
   "cell_type": "code",
   "execution_count": 130,
   "id": "5a0c2f08",
   "metadata": {},
   "outputs": [
    {
     "name": "stdout",
     "output_type": "stream",
     "text": [
      "[796 797]\n"
     ]
    }
   ],
   "source": [
    "print(full_table[full_table[\"MATHEMATICS\"]==\"D\"].index.values)"
   ]
  },
  {
   "cell_type": "code",
   "execution_count": 131,
   "id": "3897e2e7",
   "metadata": {},
   "outputs": [
    {
     "data": {
      "text/plain": [
       "array(['D7', 'B3', 'C6', 'F9', 'E8', 'C5', 'C4', 'B2', 'A1', 'XX', 'X',\n",
       "       'D'], dtype=object)"
      ]
     },
     "execution_count": 131,
     "metadata": {},
     "output_type": "execute_result"
    }
   ],
   "source": [
    "full_table[\"MATHEMATICS\"].unique()"
   ]
  },
  {
   "cell_type": "code",
   "execution_count": 132,
   "id": "c5cc0bb6",
   "metadata": {},
   "outputs": [
    {
     "name": "stdout",
     "output_type": "stream",
     "text": [
      "[ 196  246  373  493  522  713  877  878 1073 1079]\n",
      "[266]\n",
      "[ 196  203  246  373  493  522  713  877  878 1073 1079]\n",
      "[266]\n",
      "[ 196  246  373  493  522  713  877  878 1073 1079]\n",
      "[266]\n"
     ]
    }
   ],
   "source": [
    "## Get the index values of \"xx\" and \"x\" since it does not reflect student performanace.\n",
    "print(full_table[full_table[\"ENGLISH\"]==\"XX\"].index.values)\n",
    "print(full_table[full_table[\"ENGLISH\"]==\"X\"].index.values)\n",
    "\n",
    "print(full_table[full_table[\"MATHEMATICS\"]==\"XX\"].index.values)\n",
    "print(full_table[full_table[\"MATHEMATICS\"]==\"X\"].index.values)\n",
    "\n",
    "print(full_table[full_table[\"INT.SCI\"]==\"XX\"].index.values)\n",
    "print(full_table[full_table[\"INT.SCI\"]==\"X\"].index.values)"
   ]
  },
  {
   "cell_type": "code",
   "execution_count": 133,
   "id": "77b5dde3",
   "metadata": {},
   "outputs": [],
   "source": [
    "## remove all the input errors \n",
    "full_table = full_table.drop([389, 200, 796, 797,196,  203 , 246  ,373  ,493  ,522 , 713 , 877  ,878 ,1073, 1079, 266])"
   ]
  },
  {
   "cell_type": "code",
   "execution_count": 134,
   "id": "73a6cb1b",
   "metadata": {},
   "outputs": [
    {
     "data": {
      "text/plain": [
       "INDEX NO.      965\n",
       "f1_eng          55\n",
       "f2_eng          62\n",
       "f3_eng          59\n",
       "f1_math         55\n",
       "f2_math         61\n",
       "f3_math         58\n",
       "f1_sci          59\n",
       "f2_sci          61\n",
       "f3_sci          60\n",
       "Year             3\n",
       "GENDER           2\n",
       "PROGRAM          6\n",
       "ENGLISH          8\n",
       "MATHEMATICS      9\n",
       "INT.SCI         10\n",
       "dtype: int64"
      ]
     },
     "execution_count": 134,
     "metadata": {},
     "output_type": "execute_result"
    }
   ],
   "source": [
    "full_table.nunique()"
   ]
  },
  {
   "cell_type": "code",
   "execution_count": 135,
   "id": "130c8fd3",
   "metadata": {},
   "outputs": [],
   "source": [
    "# Change the year from float to interger\n",
    "full_table[\"Year\"] = full_table[\"Year\"].astype(\"int\")"
   ]
  },
  {
   "cell_type": "code",
   "execution_count": 136,
   "id": "f605add0",
   "metadata": {},
   "outputs": [],
   "source": [
    "full_table1 = full_table"
   ]
  },
  {
   "cell_type": "code",
   "execution_count": 137,
   "id": "4d489ab0",
   "metadata": {},
   "outputs": [],
   "source": [
    "## Find the average of the internal marks\n",
    "full_table['AVG_Eng'] = round((full_table['f1_eng'] + full_table['f2_eng'] + full_table['f3_eng'])/3)\n",
    "\n",
    "full_table['AVG_Math'] = round((full_table['f1_math'] + full_table['f2_math'] + full_table['f3_math'])/3)\n",
    "\n",
    "full_table['AVG_Sci'] = round((full_table['f1_sci'] + full_table['f2_sci'] + full_table['f3_sci'])/3)"
   ]
  },
  {
   "cell_type": "code",
   "execution_count": 138,
   "id": "796f2096",
   "metadata": {},
   "outputs": [
    {
     "data": {
      "text/html": [
       "<div>\n",
       "<style scoped>\n",
       "    .dataframe tbody tr th:only-of-type {\n",
       "        vertical-align: middle;\n",
       "    }\n",
       "\n",
       "    .dataframe tbody tr th {\n",
       "        vertical-align: top;\n",
       "    }\n",
       "\n",
       "    .dataframe thead th {\n",
       "        text-align: right;\n",
       "    }\n",
       "</style>\n",
       "<table border=\"1\" class=\"dataframe\">\n",
       "  <thead>\n",
       "    <tr style=\"text-align: right;\">\n",
       "      <th></th>\n",
       "      <th>INDEX NO.</th>\n",
       "      <th>f1_eng</th>\n",
       "      <th>f2_eng</th>\n",
       "      <th>f3_eng</th>\n",
       "      <th>f1_math</th>\n",
       "      <th>f2_math</th>\n",
       "      <th>f3_math</th>\n",
       "      <th>f1_sci</th>\n",
       "      <th>f2_sci</th>\n",
       "      <th>f3_sci</th>\n",
       "      <th>Year</th>\n",
       "      <th>GENDER</th>\n",
       "      <th>PROGRAM</th>\n",
       "      <th>ENGLISH</th>\n",
       "      <th>MATHEMATICS</th>\n",
       "      <th>INT.SCI</th>\n",
       "      <th>AVG_Eng</th>\n",
       "      <th>AVG_Math</th>\n",
       "      <th>AVG_Sci</th>\n",
       "    </tr>\n",
       "  </thead>\n",
       "  <tbody>\n",
       "    <tr>\n",
       "      <th>0</th>\n",
       "      <td>2040900119</td>\n",
       "      <td>45.0</td>\n",
       "      <td>41.0</td>\n",
       "      <td>44.0</td>\n",
       "      <td>51.0</td>\n",
       "      <td>47.0</td>\n",
       "      <td>41.0</td>\n",
       "      <td>40.0</td>\n",
       "      <td>45.0</td>\n",
       "      <td>69.0</td>\n",
       "      <td>2019</td>\n",
       "      <td>F</td>\n",
       "      <td>G/A</td>\n",
       "      <td>B2</td>\n",
       "      <td>D7</td>\n",
       "      <td>B3</td>\n",
       "      <td>43.0</td>\n",
       "      <td>46.0</td>\n",
       "      <td>51.0</td>\n",
       "    </tr>\n",
       "    <tr>\n",
       "      <th>1</th>\n",
       "      <td>2040900219</td>\n",
       "      <td>56.0</td>\n",
       "      <td>57.0</td>\n",
       "      <td>60.0</td>\n",
       "      <td>52.0</td>\n",
       "      <td>44.0</td>\n",
       "      <td>51.0</td>\n",
       "      <td>43.0</td>\n",
       "      <td>54.0</td>\n",
       "      <td>55.0</td>\n",
       "      <td>2019</td>\n",
       "      <td>F</td>\n",
       "      <td>G/A</td>\n",
       "      <td>C5</td>\n",
       "      <td>B3</td>\n",
       "      <td>B3</td>\n",
       "      <td>58.0</td>\n",
       "      <td>49.0</td>\n",
       "      <td>51.0</td>\n",
       "    </tr>\n",
       "    <tr>\n",
       "      <th>2</th>\n",
       "      <td>2040900319</td>\n",
       "      <td>41.0</td>\n",
       "      <td>45.0</td>\n",
       "      <td>54.0</td>\n",
       "      <td>42.0</td>\n",
       "      <td>54.0</td>\n",
       "      <td>44.0</td>\n",
       "      <td>48.0</td>\n",
       "      <td>52.0</td>\n",
       "      <td>42.0</td>\n",
       "      <td>2019</td>\n",
       "      <td>F</td>\n",
       "      <td>G/A</td>\n",
       "      <td>C4</td>\n",
       "      <td>B3</td>\n",
       "      <td>B2</td>\n",
       "      <td>47.0</td>\n",
       "      <td>47.0</td>\n",
       "      <td>47.0</td>\n",
       "    </tr>\n",
       "    <tr>\n",
       "      <th>3</th>\n",
       "      <td>2040900419</td>\n",
       "      <td>43.0</td>\n",
       "      <td>40.0</td>\n",
       "      <td>41.0</td>\n",
       "      <td>43.0</td>\n",
       "      <td>51.0</td>\n",
       "      <td>43.0</td>\n",
       "      <td>39.0</td>\n",
       "      <td>45.0</td>\n",
       "      <td>44.0</td>\n",
       "      <td>2019</td>\n",
       "      <td>M</td>\n",
       "      <td>G/A</td>\n",
       "      <td>E8</td>\n",
       "      <td>D7</td>\n",
       "      <td>C4</td>\n",
       "      <td>41.0</td>\n",
       "      <td>46.0</td>\n",
       "      <td>43.0</td>\n",
       "    </tr>\n",
       "    <tr>\n",
       "      <th>4</th>\n",
       "      <td>2040900519</td>\n",
       "      <td>55.0</td>\n",
       "      <td>54.0</td>\n",
       "      <td>45.0</td>\n",
       "      <td>66.0</td>\n",
       "      <td>55.0</td>\n",
       "      <td>52.0</td>\n",
       "      <td>62.0</td>\n",
       "      <td>60.0</td>\n",
       "      <td>45.0</td>\n",
       "      <td>2019</td>\n",
       "      <td>M</td>\n",
       "      <td>G/A</td>\n",
       "      <td>F9</td>\n",
       "      <td>D7</td>\n",
       "      <td>C6</td>\n",
       "      <td>51.0</td>\n",
       "      <td>58.0</td>\n",
       "      <td>56.0</td>\n",
       "    </tr>\n",
       "    <tr>\n",
       "      <th>...</th>\n",
       "      <td>...</td>\n",
       "      <td>...</td>\n",
       "      <td>...</td>\n",
       "      <td>...</td>\n",
       "      <td>...</td>\n",
       "      <td>...</td>\n",
       "      <td>...</td>\n",
       "      <td>...</td>\n",
       "      <td>...</td>\n",
       "      <td>...</td>\n",
       "      <td>...</td>\n",
       "      <td>...</td>\n",
       "      <td>...</td>\n",
       "      <td>...</td>\n",
       "      <td>...</td>\n",
       "      <td>...</td>\n",
       "      <td>...</td>\n",
       "      <td>...</td>\n",
       "      <td>...</td>\n",
       "    </tr>\n",
       "    <tr>\n",
       "      <th>1087</th>\n",
       "      <td>2040936221</td>\n",
       "      <td>45.0</td>\n",
       "      <td>43.0</td>\n",
       "      <td>30.0</td>\n",
       "      <td>56.0</td>\n",
       "      <td>49.0</td>\n",
       "      <td>30.0</td>\n",
       "      <td>50.0</td>\n",
       "      <td>48.0</td>\n",
       "      <td>44.0</td>\n",
       "      <td>2021</td>\n",
       "      <td>M</td>\n",
       "      <td>G/A</td>\n",
       "      <td>F9</td>\n",
       "      <td>F9</td>\n",
       "      <td>E8</td>\n",
       "      <td>39.0</td>\n",
       "      <td>45.0</td>\n",
       "      <td>47.0</td>\n",
       "    </tr>\n",
       "    <tr>\n",
       "      <th>1088</th>\n",
       "      <td>2040936321</td>\n",
       "      <td>56.0</td>\n",
       "      <td>45.0</td>\n",
       "      <td>41.0</td>\n",
       "      <td>77.0</td>\n",
       "      <td>76.0</td>\n",
       "      <td>74.0</td>\n",
       "      <td>67.0</td>\n",
       "      <td>55.0</td>\n",
       "      <td>56.0</td>\n",
       "      <td>2021</td>\n",
       "      <td>F</td>\n",
       "      <td>H/E</td>\n",
       "      <td>F9</td>\n",
       "      <td>F9</td>\n",
       "      <td>D7</td>\n",
       "      <td>47.0</td>\n",
       "      <td>76.0</td>\n",
       "      <td>59.0</td>\n",
       "    </tr>\n",
       "    <tr>\n",
       "      <th>1089</th>\n",
       "      <td>2040936421</td>\n",
       "      <td>67.0</td>\n",
       "      <td>66.0</td>\n",
       "      <td>55.0</td>\n",
       "      <td>48.0</td>\n",
       "      <td>47.0</td>\n",
       "      <td>49.0</td>\n",
       "      <td>51.0</td>\n",
       "      <td>41.0</td>\n",
       "      <td>30.0</td>\n",
       "      <td>2021</td>\n",
       "      <td>F</td>\n",
       "      <td>G/A</td>\n",
       "      <td>F9</td>\n",
       "      <td>E8</td>\n",
       "      <td>D7</td>\n",
       "      <td>63.0</td>\n",
       "      <td>48.0</td>\n",
       "      <td>41.0</td>\n",
       "    </tr>\n",
       "    <tr>\n",
       "      <th>1090</th>\n",
       "      <td>2040936521</td>\n",
       "      <td>34.0</td>\n",
       "      <td>44.0</td>\n",
       "      <td>19.0</td>\n",
       "      <td>37.0</td>\n",
       "      <td>38.0</td>\n",
       "      <td>34.0</td>\n",
       "      <td>42.0</td>\n",
       "      <td>23.0</td>\n",
       "      <td>20.0</td>\n",
       "      <td>2021</td>\n",
       "      <td>F</td>\n",
       "      <td>G/A</td>\n",
       "      <td>E8</td>\n",
       "      <td>F9</td>\n",
       "      <td>D7</td>\n",
       "      <td>32.0</td>\n",
       "      <td>36.0</td>\n",
       "      <td>28.0</td>\n",
       "    </tr>\n",
       "    <tr>\n",
       "      <th>1091</th>\n",
       "      <td>2040936621</td>\n",
       "      <td>21.0</td>\n",
       "      <td>24.0</td>\n",
       "      <td>45.0</td>\n",
       "      <td>34.0</td>\n",
       "      <td>47.0</td>\n",
       "      <td>35.0</td>\n",
       "      <td>41.0</td>\n",
       "      <td>33.0</td>\n",
       "      <td>38.0</td>\n",
       "      <td>2021</td>\n",
       "      <td>M</td>\n",
       "      <td>G/A</td>\n",
       "      <td>E8</td>\n",
       "      <td>F9</td>\n",
       "      <td>D7</td>\n",
       "      <td>30.0</td>\n",
       "      <td>39.0</td>\n",
       "      <td>37.0</td>\n",
       "    </tr>\n",
       "  </tbody>\n",
       "</table>\n",
       "<p>1055 rows × 19 columns</p>\n",
       "</div>"
      ],
      "text/plain": [
       "       INDEX NO.  f1_eng  f2_eng  f3_eng  f1_math  f2_math  f3_math  f1_sci  \\\n",
       "0     2040900119    45.0    41.0    44.0     51.0     47.0     41.0    40.0   \n",
       "1     2040900219    56.0    57.0    60.0     52.0     44.0     51.0    43.0   \n",
       "2     2040900319    41.0    45.0    54.0     42.0     54.0     44.0    48.0   \n",
       "3     2040900419    43.0    40.0    41.0     43.0     51.0     43.0    39.0   \n",
       "4     2040900519    55.0    54.0    45.0     66.0     55.0     52.0    62.0   \n",
       "...          ...     ...     ...     ...      ...      ...      ...     ...   \n",
       "1087  2040936221    45.0    43.0    30.0     56.0     49.0     30.0    50.0   \n",
       "1088  2040936321    56.0    45.0    41.0     77.0     76.0     74.0    67.0   \n",
       "1089  2040936421    67.0    66.0    55.0     48.0     47.0     49.0    51.0   \n",
       "1090  2040936521    34.0    44.0    19.0     37.0     38.0     34.0    42.0   \n",
       "1091  2040936621    21.0    24.0    45.0     34.0     47.0     35.0    41.0   \n",
       "\n",
       "      f2_sci  f3_sci  Year GENDER PROGRAM ENGLISH MATHEMATICS INT.SCI  \\\n",
       "0       45.0    69.0  2019      F     G/A      B2          D7      B3   \n",
       "1       54.0    55.0  2019      F     G/A      C5          B3      B3   \n",
       "2       52.0    42.0  2019      F     G/A      C4          B3      B2   \n",
       "3       45.0    44.0  2019      M     G/A      E8          D7      C4   \n",
       "4       60.0    45.0  2019      M     G/A      F9          D7      C6   \n",
       "...      ...     ...   ...    ...     ...     ...         ...     ...   \n",
       "1087    48.0    44.0  2021      M     G/A      F9          F9      E8   \n",
       "1088    55.0    56.0  2021      F     H/E      F9          F9      D7   \n",
       "1089    41.0    30.0  2021      F     G/A      F9          E8      D7   \n",
       "1090    23.0    20.0  2021      F     G/A      E8          F9      D7   \n",
       "1091    33.0    38.0  2021      M     G/A      E8          F9      D7   \n",
       "\n",
       "      AVG_Eng  AVG_Math  AVG_Sci  \n",
       "0        43.0      46.0     51.0  \n",
       "1        58.0      49.0     51.0  \n",
       "2        47.0      47.0     47.0  \n",
       "3        41.0      46.0     43.0  \n",
       "4        51.0      58.0     56.0  \n",
       "...       ...       ...      ...  \n",
       "1087     39.0      45.0     47.0  \n",
       "1088     47.0      76.0     59.0  \n",
       "1089     63.0      48.0     41.0  \n",
       "1090     32.0      36.0     28.0  \n",
       "1091     30.0      39.0     37.0  \n",
       "\n",
       "[1055 rows x 19 columns]"
      ]
     },
     "execution_count": 138,
     "metadata": {},
     "output_type": "execute_result"
    }
   ],
   "source": [
    "full_table"
   ]
  },
  {
   "cell_type": "code",
   "execution_count": 139,
   "id": "72aa7550",
   "metadata": {},
   "outputs": [
    {
     "name": "stdout",
     "output_type": "stream",
     "text": [
      "<class 'pandas.core.frame.DataFrame'>\n",
      "Int64Index: 1055 entries, 0 to 1091\n",
      "Data columns (total 19 columns):\n",
      " #   Column       Non-Null Count  Dtype  \n",
      "---  ------       --------------  -----  \n",
      " 0   INDEX NO.    1055 non-null   int64  \n",
      " 1   f1_eng       1055 non-null   float64\n",
      " 2   f2_eng       1055 non-null   float64\n",
      " 3   f3_eng       1055 non-null   float64\n",
      " 4   f1_math      1055 non-null   float64\n",
      " 5   f2_math      1055 non-null   float64\n",
      " 6   f3_math      1055 non-null   float64\n",
      " 7   f1_sci       1055 non-null   float64\n",
      " 8   f2_sci       1055 non-null   float64\n",
      " 9   f3_sci       1055 non-null   float64\n",
      " 10  Year         1055 non-null   int64  \n",
      " 11  GENDER       1055 non-null   object \n",
      " 12  PROGRAM      1055 non-null   object \n",
      " 13  ENGLISH      1055 non-null   object \n",
      " 14  MATHEMATICS  1055 non-null   object \n",
      " 15  INT.SCI      1055 non-null   object \n",
      " 16  AVG_Eng      1055 non-null   float64\n",
      " 17  AVG_Math     1055 non-null   float64\n",
      " 18  AVG_Sci      1055 non-null   float64\n",
      "dtypes: float64(12), int64(2), object(5)\n",
      "memory usage: 164.8+ KB\n"
     ]
    }
   ],
   "source": [
    "full_table.info()"
   ]
  },
  {
   "cell_type": "code",
   "execution_count": 140,
   "id": "4783b439",
   "metadata": {},
   "outputs": [],
   "source": [
    "### Droping the column that will be use\n",
    "finalTable = full_table.drop(full_table.loc[:, 'f1_eng':'f3_sci'].columns, axis=1)"
   ]
  },
  {
   "cell_type": "code",
   "execution_count": 141,
   "id": "49bf1c8a",
   "metadata": {},
   "outputs": [
    {
     "data": {
      "text/html": [
       "<div>\n",
       "<style scoped>\n",
       "    .dataframe tbody tr th:only-of-type {\n",
       "        vertical-align: middle;\n",
       "    }\n",
       "\n",
       "    .dataframe tbody tr th {\n",
       "        vertical-align: top;\n",
       "    }\n",
       "\n",
       "    .dataframe thead th {\n",
       "        text-align: right;\n",
       "    }\n",
       "</style>\n",
       "<table border=\"1\" class=\"dataframe\">\n",
       "  <thead>\n",
       "    <tr style=\"text-align: right;\">\n",
       "      <th></th>\n",
       "      <th>INDEX NO.</th>\n",
       "      <th>Year</th>\n",
       "      <th>GENDER</th>\n",
       "      <th>PROGRAM</th>\n",
       "      <th>ENGLISH</th>\n",
       "      <th>MATHEMATICS</th>\n",
       "      <th>INT.SCI</th>\n",
       "      <th>AVG_Eng</th>\n",
       "      <th>AVG_Math</th>\n",
       "      <th>AVG_Sci</th>\n",
       "    </tr>\n",
       "  </thead>\n",
       "  <tbody>\n",
       "    <tr>\n",
       "      <th>0</th>\n",
       "      <td>2040900119</td>\n",
       "      <td>2019</td>\n",
       "      <td>F</td>\n",
       "      <td>G/A</td>\n",
       "      <td>B2</td>\n",
       "      <td>D7</td>\n",
       "      <td>B3</td>\n",
       "      <td>43.0</td>\n",
       "      <td>46.0</td>\n",
       "      <td>51.0</td>\n",
       "    </tr>\n",
       "    <tr>\n",
       "      <th>1</th>\n",
       "      <td>2040900219</td>\n",
       "      <td>2019</td>\n",
       "      <td>F</td>\n",
       "      <td>G/A</td>\n",
       "      <td>C5</td>\n",
       "      <td>B3</td>\n",
       "      <td>B3</td>\n",
       "      <td>58.0</td>\n",
       "      <td>49.0</td>\n",
       "      <td>51.0</td>\n",
       "    </tr>\n",
       "    <tr>\n",
       "      <th>2</th>\n",
       "      <td>2040900319</td>\n",
       "      <td>2019</td>\n",
       "      <td>F</td>\n",
       "      <td>G/A</td>\n",
       "      <td>C4</td>\n",
       "      <td>B3</td>\n",
       "      <td>B2</td>\n",
       "      <td>47.0</td>\n",
       "      <td>47.0</td>\n",
       "      <td>47.0</td>\n",
       "    </tr>\n",
       "    <tr>\n",
       "      <th>3</th>\n",
       "      <td>2040900419</td>\n",
       "      <td>2019</td>\n",
       "      <td>M</td>\n",
       "      <td>G/A</td>\n",
       "      <td>E8</td>\n",
       "      <td>D7</td>\n",
       "      <td>C4</td>\n",
       "      <td>41.0</td>\n",
       "      <td>46.0</td>\n",
       "      <td>43.0</td>\n",
       "    </tr>\n",
       "    <tr>\n",
       "      <th>4</th>\n",
       "      <td>2040900519</td>\n",
       "      <td>2019</td>\n",
       "      <td>M</td>\n",
       "      <td>G/A</td>\n",
       "      <td>F9</td>\n",
       "      <td>D7</td>\n",
       "      <td>C6</td>\n",
       "      <td>51.0</td>\n",
       "      <td>58.0</td>\n",
       "      <td>56.0</td>\n",
       "    </tr>\n",
       "    <tr>\n",
       "      <th>...</th>\n",
       "      <td>...</td>\n",
       "      <td>...</td>\n",
       "      <td>...</td>\n",
       "      <td>...</td>\n",
       "      <td>...</td>\n",
       "      <td>...</td>\n",
       "      <td>...</td>\n",
       "      <td>...</td>\n",
       "      <td>...</td>\n",
       "      <td>...</td>\n",
       "    </tr>\n",
       "    <tr>\n",
       "      <th>1087</th>\n",
       "      <td>2040936221</td>\n",
       "      <td>2021</td>\n",
       "      <td>M</td>\n",
       "      <td>G/A</td>\n",
       "      <td>F9</td>\n",
       "      <td>F9</td>\n",
       "      <td>E8</td>\n",
       "      <td>39.0</td>\n",
       "      <td>45.0</td>\n",
       "      <td>47.0</td>\n",
       "    </tr>\n",
       "    <tr>\n",
       "      <th>1088</th>\n",
       "      <td>2040936321</td>\n",
       "      <td>2021</td>\n",
       "      <td>F</td>\n",
       "      <td>H/E</td>\n",
       "      <td>F9</td>\n",
       "      <td>F9</td>\n",
       "      <td>D7</td>\n",
       "      <td>47.0</td>\n",
       "      <td>76.0</td>\n",
       "      <td>59.0</td>\n",
       "    </tr>\n",
       "    <tr>\n",
       "      <th>1089</th>\n",
       "      <td>2040936421</td>\n",
       "      <td>2021</td>\n",
       "      <td>F</td>\n",
       "      <td>G/A</td>\n",
       "      <td>F9</td>\n",
       "      <td>E8</td>\n",
       "      <td>D7</td>\n",
       "      <td>63.0</td>\n",
       "      <td>48.0</td>\n",
       "      <td>41.0</td>\n",
       "    </tr>\n",
       "    <tr>\n",
       "      <th>1090</th>\n",
       "      <td>2040936521</td>\n",
       "      <td>2021</td>\n",
       "      <td>F</td>\n",
       "      <td>G/A</td>\n",
       "      <td>E8</td>\n",
       "      <td>F9</td>\n",
       "      <td>D7</td>\n",
       "      <td>32.0</td>\n",
       "      <td>36.0</td>\n",
       "      <td>28.0</td>\n",
       "    </tr>\n",
       "    <tr>\n",
       "      <th>1091</th>\n",
       "      <td>2040936621</td>\n",
       "      <td>2021</td>\n",
       "      <td>M</td>\n",
       "      <td>G/A</td>\n",
       "      <td>E8</td>\n",
       "      <td>F9</td>\n",
       "      <td>D7</td>\n",
       "      <td>30.0</td>\n",
       "      <td>39.0</td>\n",
       "      <td>37.0</td>\n",
       "    </tr>\n",
       "  </tbody>\n",
       "</table>\n",
       "<p>1055 rows × 10 columns</p>\n",
       "</div>"
      ],
      "text/plain": [
       "       INDEX NO.  Year GENDER PROGRAM ENGLISH MATHEMATICS INT.SCI  AVG_Eng  \\\n",
       "0     2040900119  2019      F     G/A      B2          D7      B3     43.0   \n",
       "1     2040900219  2019      F     G/A      C5          B3      B3     58.0   \n",
       "2     2040900319  2019      F     G/A      C4          B3      B2     47.0   \n",
       "3     2040900419  2019      M     G/A      E8          D7      C4     41.0   \n",
       "4     2040900519  2019      M     G/A      F9          D7      C6     51.0   \n",
       "...          ...   ...    ...     ...     ...         ...     ...      ...   \n",
       "1087  2040936221  2021      M     G/A      F9          F9      E8     39.0   \n",
       "1088  2040936321  2021      F     H/E      F9          F9      D7     47.0   \n",
       "1089  2040936421  2021      F     G/A      F9          E8      D7     63.0   \n",
       "1090  2040936521  2021      F     G/A      E8          F9      D7     32.0   \n",
       "1091  2040936621  2021      M     G/A      E8          F9      D7     30.0   \n",
       "\n",
       "      AVG_Math  AVG_Sci  \n",
       "0         46.0     51.0  \n",
       "1         49.0     51.0  \n",
       "2         47.0     47.0  \n",
       "3         46.0     43.0  \n",
       "4         58.0     56.0  \n",
       "...        ...      ...  \n",
       "1087      45.0     47.0  \n",
       "1088      76.0     59.0  \n",
       "1089      48.0     41.0  \n",
       "1090      36.0     28.0  \n",
       "1091      39.0     37.0  \n",
       "\n",
       "[1055 rows x 10 columns]"
      ]
     },
     "execution_count": 141,
     "metadata": {},
     "output_type": "execute_result"
    }
   ],
   "source": [
    "finalTable"
   ]
  },
  {
   "cell_type": "markdown",
   "id": "13a9553a",
   "metadata": {},
   "source": [
    "# The internal mark have to be converted to grade(A1, B2, B3, C4, C5, C6, D7, E8, F9)"
   ]
  },
  {
   "cell_type": "code",
   "execution_count": 142,
   "id": "4102f812",
   "metadata": {},
   "outputs": [],
   "source": [
    "def internal_grade(col):\n",
    "    sci_result = []\n",
    "    for value in col:\n",
    "        if value <= 39.9:\n",
    "            sci_result.append(\"F9\")    \n",
    "        elif value >= 40 and value <= 44.9:\n",
    "            sci_result.append(\"E8\")\n",
    "        elif value >= 45 and value <= 49.9:\n",
    "            sci_result.append(\"D7\")\n",
    "        elif value >= 50 and value <= 54.9:\n",
    "            sci_result.append(\"C6\")\n",
    "        elif value >= 55 and value <= 59.9:\n",
    "            sci_result.append(\"C5\")\n",
    "        elif value >= 60 and value <= 64.9:\n",
    "            sci_result.append(\"C4\")\n",
    "        elif value >= 65 and value <= 69.9:\n",
    "            sci_result.append(\"B3\")\n",
    "        elif value >= 70 and value <= 74.9:\n",
    "            sci_result.append(\"B2\")\n",
    "        else:\n",
    "            sci_result.append(\"A1\")\n",
    "            \n",
    "    return sci_result \n",
    "\n",
    "## convert english marks to grade\n",
    "finalTable[\"Inter_Eng_Grade\"] = internal_grade(finalTable[\"AVG_Eng\"])\n",
    "## convert math marks to grade\n",
    "finalTable[\"Inter_Math_Grade\"] = internal_grade(finalTable[\"AVG_Math\"])\n",
    "## convert science marks to grade\n",
    "finalTable[\"Inter_Sci_Grade\"] = internal_grade(finalTable[\"AVG_Sci\"])\n"
   ]
  },
  {
   "cell_type": "markdown",
   "id": "a1c93e30",
   "metadata": {},
   "source": []
  },
  {
   "cell_type": "code",
   "execution_count": 143,
   "id": "0b826e64",
   "metadata": {
    "scrolled": false
   },
   "outputs": [
    {
     "data": {
      "text/html": [
       "<div>\n",
       "<style scoped>\n",
       "    .dataframe tbody tr th:only-of-type {\n",
       "        vertical-align: middle;\n",
       "    }\n",
       "\n",
       "    .dataframe tbody tr th {\n",
       "        vertical-align: top;\n",
       "    }\n",
       "\n",
       "    .dataframe thead th {\n",
       "        text-align: right;\n",
       "    }\n",
       "</style>\n",
       "<table border=\"1\" class=\"dataframe\">\n",
       "  <thead>\n",
       "    <tr style=\"text-align: right;\">\n",
       "      <th></th>\n",
       "      <th>INDEX NO.</th>\n",
       "      <th>Year</th>\n",
       "      <th>GENDER</th>\n",
       "      <th>PROGRAM</th>\n",
       "      <th>ENGLISH</th>\n",
       "      <th>MATHEMATICS</th>\n",
       "      <th>INT.SCI</th>\n",
       "      <th>AVG_Eng</th>\n",
       "      <th>AVG_Math</th>\n",
       "      <th>AVG_Sci</th>\n",
       "      <th>Inter_Eng_Grade</th>\n",
       "      <th>Inter_Math_Grade</th>\n",
       "      <th>Inter_Sci_Grade</th>\n",
       "    </tr>\n",
       "  </thead>\n",
       "  <tbody>\n",
       "    <tr>\n",
       "      <th>0</th>\n",
       "      <td>2040900119</td>\n",
       "      <td>2019</td>\n",
       "      <td>F</td>\n",
       "      <td>G/A</td>\n",
       "      <td>B2</td>\n",
       "      <td>D7</td>\n",
       "      <td>B3</td>\n",
       "      <td>43.0</td>\n",
       "      <td>46.0</td>\n",
       "      <td>51.0</td>\n",
       "      <td>E8</td>\n",
       "      <td>D7</td>\n",
       "      <td>C6</td>\n",
       "    </tr>\n",
       "    <tr>\n",
       "      <th>1</th>\n",
       "      <td>2040900219</td>\n",
       "      <td>2019</td>\n",
       "      <td>F</td>\n",
       "      <td>G/A</td>\n",
       "      <td>C5</td>\n",
       "      <td>B3</td>\n",
       "      <td>B3</td>\n",
       "      <td>58.0</td>\n",
       "      <td>49.0</td>\n",
       "      <td>51.0</td>\n",
       "      <td>C5</td>\n",
       "      <td>D7</td>\n",
       "      <td>C6</td>\n",
       "    </tr>\n",
       "    <tr>\n",
       "      <th>2</th>\n",
       "      <td>2040900319</td>\n",
       "      <td>2019</td>\n",
       "      <td>F</td>\n",
       "      <td>G/A</td>\n",
       "      <td>C4</td>\n",
       "      <td>B3</td>\n",
       "      <td>B2</td>\n",
       "      <td>47.0</td>\n",
       "      <td>47.0</td>\n",
       "      <td>47.0</td>\n",
       "      <td>D7</td>\n",
       "      <td>D7</td>\n",
       "      <td>D7</td>\n",
       "    </tr>\n",
       "    <tr>\n",
       "      <th>3</th>\n",
       "      <td>2040900419</td>\n",
       "      <td>2019</td>\n",
       "      <td>M</td>\n",
       "      <td>G/A</td>\n",
       "      <td>E8</td>\n",
       "      <td>D7</td>\n",
       "      <td>C4</td>\n",
       "      <td>41.0</td>\n",
       "      <td>46.0</td>\n",
       "      <td>43.0</td>\n",
       "      <td>E8</td>\n",
       "      <td>D7</td>\n",
       "      <td>E8</td>\n",
       "    </tr>\n",
       "    <tr>\n",
       "      <th>4</th>\n",
       "      <td>2040900519</td>\n",
       "      <td>2019</td>\n",
       "      <td>M</td>\n",
       "      <td>G/A</td>\n",
       "      <td>F9</td>\n",
       "      <td>D7</td>\n",
       "      <td>C6</td>\n",
       "      <td>51.0</td>\n",
       "      <td>58.0</td>\n",
       "      <td>56.0</td>\n",
       "      <td>C6</td>\n",
       "      <td>C5</td>\n",
       "      <td>C5</td>\n",
       "    </tr>\n",
       "    <tr>\n",
       "      <th>...</th>\n",
       "      <td>...</td>\n",
       "      <td>...</td>\n",
       "      <td>...</td>\n",
       "      <td>...</td>\n",
       "      <td>...</td>\n",
       "      <td>...</td>\n",
       "      <td>...</td>\n",
       "      <td>...</td>\n",
       "      <td>...</td>\n",
       "      <td>...</td>\n",
       "      <td>...</td>\n",
       "      <td>...</td>\n",
       "      <td>...</td>\n",
       "    </tr>\n",
       "    <tr>\n",
       "      <th>1087</th>\n",
       "      <td>2040936221</td>\n",
       "      <td>2021</td>\n",
       "      <td>M</td>\n",
       "      <td>G/A</td>\n",
       "      <td>F9</td>\n",
       "      <td>F9</td>\n",
       "      <td>E8</td>\n",
       "      <td>39.0</td>\n",
       "      <td>45.0</td>\n",
       "      <td>47.0</td>\n",
       "      <td>F9</td>\n",
       "      <td>D7</td>\n",
       "      <td>D7</td>\n",
       "    </tr>\n",
       "    <tr>\n",
       "      <th>1088</th>\n",
       "      <td>2040936321</td>\n",
       "      <td>2021</td>\n",
       "      <td>F</td>\n",
       "      <td>H/E</td>\n",
       "      <td>F9</td>\n",
       "      <td>F9</td>\n",
       "      <td>D7</td>\n",
       "      <td>47.0</td>\n",
       "      <td>76.0</td>\n",
       "      <td>59.0</td>\n",
       "      <td>D7</td>\n",
       "      <td>A1</td>\n",
       "      <td>C5</td>\n",
       "    </tr>\n",
       "    <tr>\n",
       "      <th>1089</th>\n",
       "      <td>2040936421</td>\n",
       "      <td>2021</td>\n",
       "      <td>F</td>\n",
       "      <td>G/A</td>\n",
       "      <td>F9</td>\n",
       "      <td>E8</td>\n",
       "      <td>D7</td>\n",
       "      <td>63.0</td>\n",
       "      <td>48.0</td>\n",
       "      <td>41.0</td>\n",
       "      <td>C4</td>\n",
       "      <td>D7</td>\n",
       "      <td>E8</td>\n",
       "    </tr>\n",
       "    <tr>\n",
       "      <th>1090</th>\n",
       "      <td>2040936521</td>\n",
       "      <td>2021</td>\n",
       "      <td>F</td>\n",
       "      <td>G/A</td>\n",
       "      <td>E8</td>\n",
       "      <td>F9</td>\n",
       "      <td>D7</td>\n",
       "      <td>32.0</td>\n",
       "      <td>36.0</td>\n",
       "      <td>28.0</td>\n",
       "      <td>F9</td>\n",
       "      <td>F9</td>\n",
       "      <td>F9</td>\n",
       "    </tr>\n",
       "    <tr>\n",
       "      <th>1091</th>\n",
       "      <td>2040936621</td>\n",
       "      <td>2021</td>\n",
       "      <td>M</td>\n",
       "      <td>G/A</td>\n",
       "      <td>E8</td>\n",
       "      <td>F9</td>\n",
       "      <td>D7</td>\n",
       "      <td>30.0</td>\n",
       "      <td>39.0</td>\n",
       "      <td>37.0</td>\n",
       "      <td>F9</td>\n",
       "      <td>F9</td>\n",
       "      <td>F9</td>\n",
       "    </tr>\n",
       "  </tbody>\n",
       "</table>\n",
       "<p>1055 rows × 13 columns</p>\n",
       "</div>"
      ],
      "text/plain": [
       "       INDEX NO.  Year GENDER PROGRAM ENGLISH MATHEMATICS INT.SCI  AVG_Eng  \\\n",
       "0     2040900119  2019      F     G/A      B2          D7      B3     43.0   \n",
       "1     2040900219  2019      F     G/A      C5          B3      B3     58.0   \n",
       "2     2040900319  2019      F     G/A      C4          B3      B2     47.0   \n",
       "3     2040900419  2019      M     G/A      E8          D7      C4     41.0   \n",
       "4     2040900519  2019      M     G/A      F9          D7      C6     51.0   \n",
       "...          ...   ...    ...     ...     ...         ...     ...      ...   \n",
       "1087  2040936221  2021      M     G/A      F9          F9      E8     39.0   \n",
       "1088  2040936321  2021      F     H/E      F9          F9      D7     47.0   \n",
       "1089  2040936421  2021      F     G/A      F9          E8      D7     63.0   \n",
       "1090  2040936521  2021      F     G/A      E8          F9      D7     32.0   \n",
       "1091  2040936621  2021      M     G/A      E8          F9      D7     30.0   \n",
       "\n",
       "      AVG_Math  AVG_Sci Inter_Eng_Grade Inter_Math_Grade Inter_Sci_Grade  \n",
       "0         46.0     51.0              E8               D7              C6  \n",
       "1         49.0     51.0              C5               D7              C6  \n",
       "2         47.0     47.0              D7               D7              D7  \n",
       "3         46.0     43.0              E8               D7              E8  \n",
       "4         58.0     56.0              C6               C5              C5  \n",
       "...        ...      ...             ...              ...             ...  \n",
       "1087      45.0     47.0              F9               D7              D7  \n",
       "1088      76.0     59.0              D7               A1              C5  \n",
       "1089      48.0     41.0              C4               D7              E8  \n",
       "1090      36.0     28.0              F9               F9              F9  \n",
       "1091      39.0     37.0              F9               F9              F9  \n",
       "\n",
       "[1055 rows x 13 columns]"
      ]
     },
     "execution_count": 143,
     "metadata": {},
     "output_type": "execute_result"
    }
   ],
   "source": [
    "finalTable"
   ]
  },
  {
   "cell_type": "code",
   "execution_count": 144,
   "id": "2754a279",
   "metadata": {},
   "outputs": [
    {
     "data": {
      "text/html": [
       "<div>\n",
       "<style scoped>\n",
       "    .dataframe tbody tr th:only-of-type {\n",
       "        vertical-align: middle;\n",
       "    }\n",
       "\n",
       "    .dataframe tbody tr th {\n",
       "        vertical-align: top;\n",
       "    }\n",
       "\n",
       "    .dataframe thead th {\n",
       "        text-align: right;\n",
       "    }\n",
       "</style>\n",
       "<table border=\"1\" class=\"dataframe\">\n",
       "  <thead>\n",
       "    <tr style=\"text-align: right;\">\n",
       "      <th></th>\n",
       "      <th>INDEX NO.</th>\n",
       "      <th>Year</th>\n",
       "      <th>AVG_Eng</th>\n",
       "      <th>AVG_Math</th>\n",
       "      <th>AVG_Sci</th>\n",
       "    </tr>\n",
       "  </thead>\n",
       "  <tbody>\n",
       "    <tr>\n",
       "      <th>count</th>\n",
       "      <td>1.055000e+03</td>\n",
       "      <td>1055.000000</td>\n",
       "      <td>1055.000000</td>\n",
       "      <td>1055.000000</td>\n",
       "      <td>1055.000000</td>\n",
       "    </tr>\n",
       "    <tr>\n",
       "      <th>mean</th>\n",
       "      <td>2.086185e+09</td>\n",
       "      <td>2020.208531</td>\n",
       "      <td>51.487204</td>\n",
       "      <td>52.246445</td>\n",
       "      <td>49.153555</td>\n",
       "    </tr>\n",
       "    <tr>\n",
       "      <th>std</th>\n",
       "      <td>9.854330e+08</td>\n",
       "      <td>0.757081</td>\n",
       "      <td>16.619174</td>\n",
       "      <td>16.841147</td>\n",
       "      <td>17.012695</td>\n",
       "    </tr>\n",
       "    <tr>\n",
       "      <th>min</th>\n",
       "      <td>2.040292e+08</td>\n",
       "      <td>2019.000000</td>\n",
       "      <td>11.000000</td>\n",
       "      <td>10.000000</td>\n",
       "      <td>9.000000</td>\n",
       "    </tr>\n",
       "    <tr>\n",
       "      <th>25%</th>\n",
       "      <td>2.040909e+09</td>\n",
       "      <td>2020.000000</td>\n",
       "      <td>41.000000</td>\n",
       "      <td>41.000000</td>\n",
       "      <td>37.000000</td>\n",
       "    </tr>\n",
       "    <tr>\n",
       "      <th>50%</th>\n",
       "      <td>2.040917e+09</td>\n",
       "      <td>2020.000000</td>\n",
       "      <td>55.000000</td>\n",
       "      <td>56.000000</td>\n",
       "      <td>52.000000</td>\n",
       "    </tr>\n",
       "    <tr>\n",
       "      <th>75%</th>\n",
       "      <td>2.040925e+09</td>\n",
       "      <td>2021.000000</td>\n",
       "      <td>64.000000</td>\n",
       "      <td>65.000000</td>\n",
       "      <td>62.000000</td>\n",
       "    </tr>\n",
       "    <tr>\n",
       "      <th>max</th>\n",
       "      <td>2.040924e+10</td>\n",
       "      <td>2021.000000</td>\n",
       "      <td>81.000000</td>\n",
       "      <td>81.000000</td>\n",
       "      <td>81.000000</td>\n",
       "    </tr>\n",
       "  </tbody>\n",
       "</table>\n",
       "</div>"
      ],
      "text/plain": [
       "          INDEX NO.         Year      AVG_Eng     AVG_Math      AVG_Sci\n",
       "count  1.055000e+03  1055.000000  1055.000000  1055.000000  1055.000000\n",
       "mean   2.086185e+09  2020.208531    51.487204    52.246445    49.153555\n",
       "std    9.854330e+08     0.757081    16.619174    16.841147    17.012695\n",
       "min    2.040292e+08  2019.000000    11.000000    10.000000     9.000000\n",
       "25%    2.040909e+09  2020.000000    41.000000    41.000000    37.000000\n",
       "50%    2.040917e+09  2020.000000    55.000000    56.000000    52.000000\n",
       "75%    2.040925e+09  2021.000000    64.000000    65.000000    62.000000\n",
       "max    2.040924e+10  2021.000000    81.000000    81.000000    81.000000"
      ]
     },
     "execution_count": 144,
     "metadata": {},
     "output_type": "execute_result"
    }
   ],
   "source": [
    "### What is student internal marks compare to wassce\n",
    "finalTable.describe()"
   ]
  },
  {
   "cell_type": "code",
   "execution_count": 145,
   "id": "09d5606d",
   "metadata": {},
   "outputs": [
    {
     "data": {
      "text/plain": [
       "INDEX NO.           965\n",
       "Year                  3\n",
       "GENDER                2\n",
       "PROGRAM               6\n",
       "ENGLISH               8\n",
       "MATHEMATICS           9\n",
       "INT.SCI              10\n",
       "AVG_Eng              66\n",
       "AVG_Math             64\n",
       "AVG_Sci              69\n",
       "Inter_Eng_Grade       9\n",
       "Inter_Math_Grade      9\n",
       "Inter_Sci_Grade       9\n",
       "dtype: int64"
      ]
     },
     "execution_count": 145,
     "metadata": {},
     "output_type": "execute_result"
    }
   ],
   "source": [
    "finalTable.nunique()"
   ]
  },
  {
   "cell_type": "code",
   "execution_count": 146,
   "id": "3cd43fd1",
   "metadata": {},
   "outputs": [
    {
     "data": {
      "text/plain": [
       "INDEX NO.           0\n",
       "Year                0\n",
       "GENDER              0\n",
       "PROGRAM             0\n",
       "ENGLISH             0\n",
       "MATHEMATICS         0\n",
       "INT.SCI             0\n",
       "AVG_Eng             0\n",
       "AVG_Math            0\n",
       "AVG_Sci             0\n",
       "Inter_Eng_Grade     0\n",
       "Inter_Math_Grade    0\n",
       "Inter_Sci_Grade     0\n",
       "dtype: int64"
      ]
     },
     "execution_count": 146,
     "metadata": {},
     "output_type": "execute_result"
    }
   ],
   "source": [
    "finalTable.isnull().sum()"
   ]
  },
  {
   "cell_type": "markdown",
   "id": "ae5af1a0",
   "metadata": {},
   "source": [
    "# Relationship Analysis"
   ]
  },
  {
   "cell_type": "code",
   "execution_count": 147,
   "id": "a2c14b1e",
   "metadata": {},
   "outputs": [],
   "source": [
    "corelation = finalTable.corr()"
   ]
  },
  {
   "cell_type": "code",
   "execution_count": 148,
   "id": "9c1ff91c",
   "metadata": {},
   "outputs": [
    {
     "data": {
      "text/plain": [
       "<AxesSubplot:>"
      ]
     },
     "execution_count": 148,
     "metadata": {},
     "output_type": "execute_result"
    },
    {
     "data": {
      "image/png": "[encoded data removed]",
      "text/plain": [
       "<Figure size 640x480 with 2 Axes>"
      ]
     },
     "metadata": {},
     "output_type": "display_data"
    }
   ],
   "source": [
    "sns.heatmap(corelation, xticklabels= corelation.columns, yticklabels = corelation.columns,\n",
    "           annot=True)"
   ]
  },
  {
   "cell_type": "code",
   "execution_count": 376,
   "id": "1e644377",
   "metadata": {},
   "outputs": [
    {
     "data": {
      "text/plain": [
       "<seaborn.axisgrid.FacetGrid at 0x7fc2457dfc10>"
      ]
     },
     "execution_count": 376,
     "metadata": {},
     "output_type": "execute_result"
    },
    {
     "data": {
      "image/png": "[encoded data removed]",
      "text/plain": [
       "<Figure size 616.861x500 with 1 Axes>"
      ]
     },
     "metadata": {},
     "output_type": "display_data"
    }
   ],
   "source": [
    "sns.relplot(x =\"AVG_Eng\" , y =\"AVG_Math\", hue=\"GENDER\", data=finalTable)"
   ]
  },
  {
   "cell_type": "code",
   "execution_count": 150,
   "id": "b610f21a",
   "metadata": {},
   "outputs": [
    {
     "data": {
      "text/plain": [
       "<seaborn.axisgrid.FacetGrid at 0x7fc245ccd880>"
      ]
     },
     "execution_count": 150,
     "metadata": {},
     "output_type": "execute_result"
    },
    {
     "data": {
      "image/png": "[encoded data removed]",
      "text/plain": [
       "<Figure size 616.861x500 with 1 Axes>"
      ]
     },
     "metadata": {},
     "output_type": "display_data"
    }
   ],
   "source": [
    "sns.relplot(x =\"AVG_Eng\" , y =\"AVG_Sci\", hue=\"GENDER\", data=finalTable)"
   ]
  },
  {
   "cell_type": "code",
   "execution_count": 151,
   "id": "99c4ad71",
   "metadata": {},
   "outputs": [
    {
     "data": {
      "text/plain": [
       "<seaborn.axisgrid.FacetGrid at 0x7fc242393640>"
      ]
     },
     "execution_count": 151,
     "metadata": {},
     "output_type": "execute_result"
    },
    {
     "data": {
      "image/png": "[encoded data removed]",
      "text/plain": [
       "<Figure size 616.861x500 with 1 Axes>"
      ]
     },
     "metadata": {},
     "output_type": "display_data"
    }
   ],
   "source": [
    "sns.relplot(x =\"AVG_Sci\" , y =\"AVG_Math\", hue=\"GENDER\", data=finalTable)"
   ]
  },
  {
   "cell_type": "code",
   "execution_count": 152,
   "id": "f74b3271",
   "metadata": {},
   "outputs": [
    {
     "name": "stdout",
     "output_type": "stream",
     "text": [
      "F9    568\n",
      "E8    260\n",
      "D7    137\n",
      "C6     77\n",
      "C5      8\n",
      "C4      2\n",
      "B3      2\n",
      "B2      1\n",
      "Name: ENGLISH, dtype: int64\n",
      "F9    251\n",
      "C5    149\n",
      "C4    141\n",
      "C6    118\n",
      "B3    104\n",
      "E8     81\n",
      "B2     74\n",
      "D7     73\n",
      "A1     64\n",
      "Name: Inter_Eng_Grade, dtype: int64\n"
     ]
    }
   ],
   "source": [
    "print(finalTable[\"ENGLISH\"].value_counts())\n",
    "print(finalTable[\"Inter_Eng_Grade\"].value_counts())"
   ]
  },
  {
   "cell_type": "code",
   "execution_count": 153,
   "id": "2bc4ae0d",
   "metadata": {},
   "outputs": [
    {
     "name": "stdout",
     "output_type": "stream",
     "text": [
      "F9    381\n",
      "B3    161\n",
      "E8    144\n",
      "C6    137\n",
      "D7    105\n",
      "C5     55\n",
      "C4     55\n",
      "B2     13\n",
      "A1      4\n",
      "Name: MATHEMATICS, dtype: int64\n",
      "F9    217\n",
      "C4    156\n",
      "C5    135\n",
      "B3    134\n",
      "C6    113\n",
      "E8    108\n",
      "B2     67\n",
      "A1     67\n",
      "D7     58\n",
      "Name: Inter_Math_Grade, dtype: int64\n"
     ]
    }
   ],
   "source": [
    "print(finalTable[\"MATHEMATICS\"].value_counts())\n",
    "print(finalTable[\"Inter_Math_Grade\"].value_counts())"
   ]
  },
  {
   "cell_type": "code",
   "execution_count": 154,
   "id": "99cabfe7",
   "metadata": {
    "scrolled": false
   },
   "outputs": [
    {
     "name": "stdout",
     "output_type": "stream",
     "text": [
      "E8    321\n",
      "D7    308\n",
      "C6    173\n",
      "F9    158\n",
      "C5     43\n",
      "B3     24\n",
      "C4     23\n",
      "B2      3\n",
      "A1      1\n",
      "E9      1\n",
      "Name: INT.SCI, dtype: int64\n",
      "F9    293\n",
      "C6    149\n",
      "C4    149\n",
      "C5    129\n",
      "E8     87\n",
      "B3     80\n",
      "B2     67\n",
      "D7     66\n",
      "A1     35\n",
      "Name: Inter_Sci_Grade, dtype: int64\n"
     ]
    }
   ],
   "source": [
    "print(finalTable[\"INT.SCI\"].value_counts())\n",
    "print(finalTable[\"Inter_Sci_Grade\"].value_counts())"
   ]
  },
  {
   "cell_type": "code",
   "execution_count": 155,
   "id": "f1ffd382",
   "metadata": {},
   "outputs": [],
   "source": [
    "def grade_count(getWas, getInter):\n",
    "    wassce_col = getWas\n",
    "    internal = getInter\n",
    "    was_count = {}\n",
    "    inter_count = {}\n",
    "    \n",
    "    for grade in wassce_col:\n",
    "        if grade in was_count:\n",
    "            was_count[grade] += 1\n",
    "        else:\n",
    "            was_count[grade] = 1\n",
    "            \n",
    "    for grade in internal:\n",
    "        if grade in inter_count:\n",
    "            inter_count[grade] += 1\n",
    "        else:\n",
    "            inter_count[grade] = 1\n",
    "    return [was_count, inter_count]\n",
    "\n",
    "\n",
    "\n"
   ]
  },
  {
   "cell_type": "code",
   "execution_count": null,
   "id": "0615215e",
   "metadata": {},
   "outputs": [],
   "source": [
    "\n"
   ]
  },
  {
   "cell_type": "code",
   "execution_count": 156,
   "id": "f55fd5be",
   "metadata": {},
   "outputs": [],
   "source": [
    "def newtable(wassceCount, internalGradeCount):\n",
    "    keysWassce = list(wassceCount.keys())\n",
    "    valuesWassce = list(wassceCount.values())\n",
    "    data1 = {'labels':keysWassce, 'No.Student_in_Wassce':valuesWassce}\n",
    "    df1 = pd.DataFrame.from_dict(data1)\n",
    "    \n",
    "    keysInternal = list(internalGradeCount.keys())\n",
    "    valuesInternal = list(internalGradeCount.values())\n",
    "    data2 = {'labels':keysInternal, 'No.Student_in_InternalMark':valuesInternal}\n",
    "    df2 = pd.DataFrame.from_dict(data2)\n",
    "    \n",
    "    # using merge function by setting how='outer' \n",
    "    New_Table = pd.merge(df1, df2,\n",
    "                         on='labels',\n",
    "                         how='outer')\n",
    "    New_Table = New_Table.fillna(0)\n",
    "    print(New_Table)\n",
    "    barChart = New_Table.plot(x=\"labels\", y=[\"No.Student_in_Wassce\", \"No.Student_in_InternalMark\"], kind=\"bar\")\n",
    "    return barChart\n",
    "    \n",
    "\n"
   ]
  },
  {
   "cell_type": "code",
   "execution_count": 157,
   "id": "6d3897a3",
   "metadata": {},
   "outputs": [
    {
     "name": "stdout",
     "output_type": "stream",
     "text": [
      "  labels  No.Student_in_Wassce  No.Student_in_InternalMark\n",
      "0     B2                   1.0                          74\n",
      "1     C5                   8.0                         149\n",
      "2     C4                   2.0                         141\n",
      "3     E8                 260.0                          81\n",
      "4     F9                 568.0                         251\n",
      "5     C6                  77.0                         118\n",
      "6     D7                 137.0                          73\n",
      "7     B3                   2.0                         104\n",
      "8     A1                   0.0                          64\n"
     ]
    },
    {
     "data": {
      "text/plain": [
       "<AxesSubplot:xlabel='labels'>"
      ]
     },
     "execution_count": 157,
     "metadata": {},
     "output_type": "execute_result"
    },
    {
     "data": {
      "image/png": "[encoded data removed]",
      "text/plain": [
       "<Figure size 640x480 with 1 Axes>"
      ]
     },
     "metadata": {},
     "output_type": "display_data"
    }
   ],
   "source": [
    "compare = grade_count(finalTable[\"ENGLISH\"], finalTable[\"Inter_Eng_Grade\"])\n",
    "English = newtable(compare[0],compare[1])\n",
    "English"
   ]
  },
  {
   "cell_type": "code",
   "execution_count": 158,
   "id": "655aed35",
   "metadata": {},
   "outputs": [
    {
     "name": "stdout",
     "output_type": "stream",
     "text": [
      "  labels  No.Student_in_Wassce  No.Student_in_InternalMark\n",
      "0     D7                   105                          58\n",
      "1     B3                   161                         134\n",
      "2     C6                   137                         113\n",
      "3     F9                   381                         217\n",
      "4     E8                   144                         108\n",
      "5     C5                    55                         135\n",
      "6     C4                    55                         156\n",
      "7     B2                    13                          67\n",
      "8     A1                     4                          67\n"
     ]
    },
    {
     "data": {
      "text/plain": [
       "<AxesSubplot:xlabel='labels'>"
      ]
     },
     "execution_count": 158,
     "metadata": {},
     "output_type": "execute_result"
    },
    {
     "data": {
      "image/png": "[encoded data removed]",
      "text/plain": [
       "<Figure size 640x480 with 1 Axes>"
      ]
     },
     "metadata": {},
     "output_type": "display_data"
    }
   ],
   "source": [
    "compare1 = grade_count(finalTable[\"MATHEMATICS\"], finalTable[\"Inter_Math_Grade\"])\n",
    "Mathametics = newtable(compare1[0],compare1[1])\n",
    "Mathametics"
   ]
  },
  {
   "cell_type": "code",
   "execution_count": 159,
   "id": "30a1cac4",
   "metadata": {},
   "outputs": [
    {
     "name": "stdout",
     "output_type": "stream",
     "text": [
      "  labels  No.Student_in_Wassce  No.Student_in_InternalMark\n",
      "0     B3                    24                        80.0\n",
      "1     B2                     3                        67.0\n",
      "2     C4                    23                       149.0\n",
      "3     C6                   173                       149.0\n",
      "4     D7                   308                        66.0\n",
      "5     C5                    43                       129.0\n",
      "6     F9                   158                       293.0\n",
      "7     E8                   321                        87.0\n",
      "8     A1                     1                        35.0\n",
      "9     E9                     1                         0.0\n"
     ]
    },
    {
     "data": {
      "text/plain": [
       "<AxesSubplot:xlabel='labels'>"
      ]
     },
     "execution_count": 159,
     "metadata": {},
     "output_type": "execute_result"
    },
    {
     "data": {
      "image/png": "[encoded data removed]",
      "text/plain": [
       "<Figure size 640x480 with 1 Axes>"
      ]
     },
     "metadata": {},
     "output_type": "display_data"
    }
   ],
   "source": [
    "compare2 = grade_count(finalTable[\"INT.SCI\"], finalTable[\"Inter_Sci_Grade\"])\n",
    "Science = newtable(compare2[0],compare2[1])\n",
    "Science"
   ]
  },
  {
   "cell_type": "code",
   "execution_count": 160,
   "id": "f424df2f",
   "metadata": {},
   "outputs": [
    {
     "name": "stdout",
     "output_type": "stream",
     "text": [
      "GENDER\n",
      "F    51.350195\n",
      "M    51.617375\n",
      "Name: AVG_Eng, dtype: float64\n",
      "GENDER\n",
      "F    51.795720\n",
      "M    52.674677\n",
      "Name: AVG_Math, dtype: float64\n",
      "GENDER\n",
      "F    49.428016\n",
      "M    48.892791\n",
      "Name: AVG_Sci, dtype: float64\n"
     ]
    }
   ],
   "source": [
    "print(finalTable.groupby(\"GENDER\")[\"AVG_Eng\"].mean())\n",
    "\n",
    "print(finalTable.groupby(\"GENDER\")[\"AVG_Math\"].mean())\n",
    "print(finalTable.groupby(\"GENDER\")[\"AVG_Sci\"].mean())"
   ]
  },
  {
   "cell_type": "code",
   "execution_count": 389,
   "id": "5281d205",
   "metadata": {},
   "outputs": [
    {
     "name": "stdout",
     "output_type": "stream",
     "text": [
      "PROGRAM\n",
      "AGRIC    55.538462\n",
      "BUS      53.785714\n",
      "G/A      51.788562\n",
      "H/E      50.503226\n",
      "SCI      49.390244\n",
      "V/A      49.289655\n",
      "Name: AVG_Eng, dtype: float64\n",
      "-----------------------------------\n",
      "PROGRAM\n",
      "AGRIC    58.384615\n",
      "BUS      55.061224\n",
      "G/A      52.116118\n",
      "H/E      51.529032\n",
      "SCI      49.975610\n",
      "V/A      50.620690\n",
      "Name: AVG_Math, dtype: float64\n",
      "-----------------------------------\n",
      "PROGRAM\n",
      "AGRIC    53.051282\n",
      "BUS      50.479592\n",
      "G/A      49.365685\n",
      "H/E      48.935484\n",
      "SCI      49.707317\n",
      "V/A      46.441379\n",
      "Name: AVG_Sci, dtype: float64\n"
     ]
    }
   ],
   "source": [
    "eng1 = pd.DataFrame(finalTable.groupby(\"PROGRAM\")[\"AVG_Eng\"].mean())\n",
    "\n",
    "print(finalTable.groupby(\"PROGRAM\")[\"AVG_Eng\"].mean())\n",
    "print(\"-----------------------------------\")\n",
    "math1 = pd.DataFrame(finalTable.groupby(\"PROGRAM\")[\"AVG_Math\"].mean())\n",
    "print(finalTable.groupby(\"PROGRAM\")[\"AVG_Math\"].mean())\n",
    "print(\"-----------------------------------\")\n",
    "Sci1 = pd.DataFrame(finalTable.groupby(\"PROGRAM\")[\"AVG_Sci\"].mean())\n",
    "print(finalTable.groupby(\"PROGRAM\")[\"AVG_Sci\"].mean())\n"
   ]
  },
  {
   "cell_type": "code",
   "execution_count": 387,
   "id": "bc8b4c88",
   "metadata": {},
   "outputs": [
    {
     "data": {
      "text/plain": [
       "<AxesSubplot:title={'center':'Avarage Eng Internal Score Scored by Program'}, ylabel='AVG_Eng'>"
      ]
     },
     "execution_count": 387,
     "metadata": {},
     "output_type": "execute_result"
    },
    {
     "data": {
      "image/png": "[encoded data removed]",
      "text/plain": [
       "<Figure size 640x480 with 1 Axes>"
      ]
     },
     "metadata": {},
     "output_type": "display_data"
    }
   ],
   "source": [
    "eng1\n",
    "eng1.groupby(['PROGRAM']).sum().plot(kind='pie', y='AVG_Eng', autopct='%1.0f%%',\n",
    "                                title='Avarage Eng Internal Score Scored by Program')"
   ]
  },
  {
   "cell_type": "code",
   "execution_count": 390,
   "id": "d01dc9ed",
   "metadata": {},
   "outputs": [
    {
     "data": {
      "text/plain": [
       "<AxesSubplot:title={'center':'Avarage Math Internal Score Scored by Program'}, ylabel='AVG_Math'>"
      ]
     },
     "execution_count": 390,
     "metadata": {},
     "output_type": "execute_result"
    },
    {
     "data": {
      "image/png": "[encoded data removed]",
      "text/plain": [
       "<Figure size 640x480 with 1 Axes>"
      ]
     },
     "metadata": {},
     "output_type": "display_data"
    }
   ],
   "source": [
    "math1 = pd.DataFrame(finalTable.groupby(\"PROGRAM\")[\"AVG_Math\"].mean())\n",
    "math1.groupby(['PROGRAM']).sum().plot(kind='pie', y='AVG_Math', autopct='%1.0f%%',\n",
    "                                title='Avarage Math Internal Score Scored by Program')"
   ]
  },
  {
   "cell_type": "code",
   "execution_count": 391,
   "id": "57440a9e",
   "metadata": {},
   "outputs": [
    {
     "data": {
      "text/plain": [
       "<AxesSubplot:title={'center':'Avarage Science Internal Score Scored by Program'}, ylabel='AVG_Sci'>"
      ]
     },
     "execution_count": 391,
     "metadata": {},
     "output_type": "execute_result"
    },
    {
     "data": {
      "image/png": "[encoded data removed]",
      "text/plain": [
       "<Figure size 640x480 with 1 Axes>"
      ]
     },
     "metadata": {},
     "output_type": "display_data"
    }
   ],
   "source": [
    "Sci1 = pd.DataFrame(finalTable.groupby(\"PROGRAM\")[\"AVG_Sci\"].mean())\n",
    "Sci1.groupby(['PROGRAM']).sum().plot(kind='pie', y='AVG_Sci', autopct='%1.0f%%',\n",
    "                                title='Avarage Science Internal Score Scored by Program')"
   ]
  },
  {
   "cell_type": "code",
   "execution_count": null,
   "id": "d8a8a6b1",
   "metadata": {},
   "outputs": [],
   "source": [
    "sns.relplot(x =\"ENGLISH\" , y =\"Inter_Eng_Grade\", hue=\"PROGRAM\", data=finalTable)"
   ]
  },
  {
   "cell_type": "code",
   "execution_count": 162,
   "id": "a14c9ceb",
   "metadata": {
    "scrolled": false
   },
   "outputs": [
    {
     "name": "stdout",
     "output_type": "stream",
     "text": [
      "Year\n",
      "2019    52.027907\n",
      "2020    52.432099\n",
      "2021    50.340230\n",
      "Name: AVG_Eng, dtype: float64\n",
      "Year\n",
      "2019    53.241860\n",
      "2020    53.461728\n",
      "2021    50.622989\n",
      "Name: AVG_Math, dtype: float64\n",
      "Year\n",
      "2019    50.172093\n",
      "2020    50.377778\n",
      "2021    47.510345\n",
      "Name: AVG_Sci, dtype: float64\n"
     ]
    }
   ],
   "source": [
    "print(finalTable.groupby(\"Year\")[\"AVG_Eng\"].mean())\n",
    "print(finalTable.groupby(\"Year\")[\"AVG_Math\"].mean())\n",
    "print(finalTable.groupby(\"Year\")[\"AVG_Sci\"].mean())"
   ]
  },
  {
   "cell_type": "code",
   "execution_count": 163,
   "id": "cd26f474",
   "metadata": {},
   "outputs": [
    {
     "data": {
      "text/html": [
       "<div>\n",
       "<style scoped>\n",
       "    .dataframe tbody tr th:only-of-type {\n",
       "        vertical-align: middle;\n",
       "    }\n",
       "\n",
       "    .dataframe tbody tr th {\n",
       "        vertical-align: top;\n",
       "    }\n",
       "\n",
       "    .dataframe thead th {\n",
       "        text-align: right;\n",
       "    }\n",
       "</style>\n",
       "<table border=\"1\" class=\"dataframe\">\n",
       "  <thead>\n",
       "    <tr style=\"text-align: right;\">\n",
       "      <th></th>\n",
       "      <th>INDEX NO.</th>\n",
       "      <th>Year</th>\n",
       "      <th>GENDER</th>\n",
       "      <th>PROGRAM</th>\n",
       "      <th>ENGLISH</th>\n",
       "      <th>MATHEMATICS</th>\n",
       "      <th>INT.SCI</th>\n",
       "      <th>AVG_Eng</th>\n",
       "      <th>AVG_Math</th>\n",
       "      <th>AVG_Sci</th>\n",
       "      <th>Inter_Eng_Grade</th>\n",
       "      <th>Inter_Math_Grade</th>\n",
       "      <th>Inter_Sci_Grade</th>\n",
       "    </tr>\n",
       "  </thead>\n",
       "  <tbody>\n",
       "    <tr>\n",
       "      <th>1087</th>\n",
       "      <td>2040936221</td>\n",
       "      <td>2021</td>\n",
       "      <td>M</td>\n",
       "      <td>G/A</td>\n",
       "      <td>F9</td>\n",
       "      <td>F9</td>\n",
       "      <td>E8</td>\n",
       "      <td>39.0</td>\n",
       "      <td>45.0</td>\n",
       "      <td>47.0</td>\n",
       "      <td>F9</td>\n",
       "      <td>D7</td>\n",
       "      <td>D7</td>\n",
       "    </tr>\n",
       "    <tr>\n",
       "      <th>1088</th>\n",
       "      <td>2040936321</td>\n",
       "      <td>2021</td>\n",
       "      <td>F</td>\n",
       "      <td>H/E</td>\n",
       "      <td>F9</td>\n",
       "      <td>F9</td>\n",
       "      <td>D7</td>\n",
       "      <td>47.0</td>\n",
       "      <td>76.0</td>\n",
       "      <td>59.0</td>\n",
       "      <td>D7</td>\n",
       "      <td>A1</td>\n",
       "      <td>C5</td>\n",
       "    </tr>\n",
       "    <tr>\n",
       "      <th>1089</th>\n",
       "      <td>2040936421</td>\n",
       "      <td>2021</td>\n",
       "      <td>F</td>\n",
       "      <td>G/A</td>\n",
       "      <td>F9</td>\n",
       "      <td>E8</td>\n",
       "      <td>D7</td>\n",
       "      <td>63.0</td>\n",
       "      <td>48.0</td>\n",
       "      <td>41.0</td>\n",
       "      <td>C4</td>\n",
       "      <td>D7</td>\n",
       "      <td>E8</td>\n",
       "    </tr>\n",
       "    <tr>\n",
       "      <th>1090</th>\n",
       "      <td>2040936521</td>\n",
       "      <td>2021</td>\n",
       "      <td>F</td>\n",
       "      <td>G/A</td>\n",
       "      <td>E8</td>\n",
       "      <td>F9</td>\n",
       "      <td>D7</td>\n",
       "      <td>32.0</td>\n",
       "      <td>36.0</td>\n",
       "      <td>28.0</td>\n",
       "      <td>F9</td>\n",
       "      <td>F9</td>\n",
       "      <td>F9</td>\n",
       "    </tr>\n",
       "    <tr>\n",
       "      <th>1091</th>\n",
       "      <td>2040936621</td>\n",
       "      <td>2021</td>\n",
       "      <td>M</td>\n",
       "      <td>G/A</td>\n",
       "      <td>E8</td>\n",
       "      <td>F9</td>\n",
       "      <td>D7</td>\n",
       "      <td>30.0</td>\n",
       "      <td>39.0</td>\n",
       "      <td>37.0</td>\n",
       "      <td>F9</td>\n",
       "      <td>F9</td>\n",
       "      <td>F9</td>\n",
       "    </tr>\n",
       "  </tbody>\n",
       "</table>\n",
       "</div>"
      ],
      "text/plain": [
       "       INDEX NO.  Year GENDER PROGRAM ENGLISH MATHEMATICS INT.SCI  AVG_Eng  \\\n",
       "1087  2040936221  2021      M     G/A      F9          F9      E8     39.0   \n",
       "1088  2040936321  2021      F     H/E      F9          F9      D7     47.0   \n",
       "1089  2040936421  2021      F     G/A      F9          E8      D7     63.0   \n",
       "1090  2040936521  2021      F     G/A      E8          F9      D7     32.0   \n",
       "1091  2040936621  2021      M     G/A      E8          F9      D7     30.0   \n",
       "\n",
       "      AVG_Math  AVG_Sci Inter_Eng_Grade Inter_Math_Grade Inter_Sci_Grade  \n",
       "1087      45.0     47.0              F9               D7              D7  \n",
       "1088      76.0     59.0              D7               A1              C5  \n",
       "1089      48.0     41.0              C4               D7              E8  \n",
       "1090      36.0     28.0              F9               F9              F9  \n",
       "1091      39.0     37.0              F9               F9              F9  "
      ]
     },
     "execution_count": 163,
     "metadata": {},
     "output_type": "execute_result"
    }
   ],
   "source": [
    "finalTable.tail()"
   ]
  },
  {
   "cell_type": "markdown",
   "id": "d747a82b",
   "metadata": {},
   "source": [
    "# Maka our prediction"
   ]
  },
  {
   "cell_type": "code",
   "execution_count": 164,
   "id": "d1bb50fa",
   "metadata": {},
   "outputs": [],
   "source": [
    "full_table1['Year'].replace({'2019.0':0,'2020.0':1,'2021.0':2},inplace = True)"
   ]
  },
  {
   "cell_type": "code",
   "execution_count": 235,
   "id": "e61ea33a",
   "metadata": {},
   "outputs": [],
   "source": [
    "full_table1['GENDER'].replace({'F':0,'M':1},inplace = True)"
   ]
  },
  {
   "cell_type": "code",
   "execution_count": 236,
   "id": "b5b20081",
   "metadata": {},
   "outputs": [],
   "source": [
    "full_table1['PROGRAM'].replace({'G/A': 0, 'V/A':1, 'SCI':2, 'BUS':3, 'AGRIC':4, 'H/E':5},inplace = True)"
   ]
  },
  {
   "cell_type": "code",
   "execution_count": 237,
   "id": "ce3c7c17",
   "metadata": {},
   "outputs": [
    {
     "data": {
      "text/html": [
       "<div>\n",
       "<style scoped>\n",
       "    .dataframe tbody tr th:only-of-type {\n",
       "        vertical-align: middle;\n",
       "    }\n",
       "\n",
       "    .dataframe tbody tr th {\n",
       "        vertical-align: top;\n",
       "    }\n",
       "\n",
       "    .dataframe thead th {\n",
       "        text-align: right;\n",
       "    }\n",
       "</style>\n",
       "<table border=\"1\" class=\"dataframe\">\n",
       "  <thead>\n",
       "    <tr style=\"text-align: right;\">\n",
       "      <th></th>\n",
       "      <th>INDEX NO.</th>\n",
       "      <th>f1_eng</th>\n",
       "      <th>f2_eng</th>\n",
       "      <th>f3_eng</th>\n",
       "      <th>f1_math</th>\n",
       "      <th>f2_math</th>\n",
       "      <th>f3_math</th>\n",
       "      <th>f1_sci</th>\n",
       "      <th>f2_sci</th>\n",
       "      <th>f3_sci</th>\n",
       "      <th>Year</th>\n",
       "      <th>GENDER</th>\n",
       "      <th>PROGRAM</th>\n",
       "      <th>ENGLISH</th>\n",
       "      <th>MATHEMATICS</th>\n",
       "      <th>INT.SCI</th>\n",
       "      <th>AVG_Eng</th>\n",
       "      <th>AVG_Math</th>\n",
       "      <th>AVG_Sci</th>\n",
       "    </tr>\n",
       "  </thead>\n",
       "  <tbody>\n",
       "    <tr>\n",
       "      <th>0</th>\n",
       "      <td>2040900119</td>\n",
       "      <td>45.0</td>\n",
       "      <td>41.0</td>\n",
       "      <td>44.0</td>\n",
       "      <td>51.0</td>\n",
       "      <td>47.0</td>\n",
       "      <td>41.0</td>\n",
       "      <td>40.0</td>\n",
       "      <td>45.0</td>\n",
       "      <td>69.0</td>\n",
       "      <td>2019</td>\n",
       "      <td>0</td>\n",
       "      <td>0</td>\n",
       "      <td>B2</td>\n",
       "      <td>D7</td>\n",
       "      <td>B3</td>\n",
       "      <td>43.0</td>\n",
       "      <td>46.0</td>\n",
       "      <td>51.0</td>\n",
       "    </tr>\n",
       "    <tr>\n",
       "      <th>1</th>\n",
       "      <td>2040900219</td>\n",
       "      <td>56.0</td>\n",
       "      <td>57.0</td>\n",
       "      <td>60.0</td>\n",
       "      <td>52.0</td>\n",
       "      <td>44.0</td>\n",
       "      <td>51.0</td>\n",
       "      <td>43.0</td>\n",
       "      <td>54.0</td>\n",
       "      <td>55.0</td>\n",
       "      <td>2019</td>\n",
       "      <td>0</td>\n",
       "      <td>0</td>\n",
       "      <td>C5</td>\n",
       "      <td>B3</td>\n",
       "      <td>B3</td>\n",
       "      <td>58.0</td>\n",
       "      <td>49.0</td>\n",
       "      <td>51.0</td>\n",
       "    </tr>\n",
       "    <tr>\n",
       "      <th>2</th>\n",
       "      <td>2040900319</td>\n",
       "      <td>41.0</td>\n",
       "      <td>45.0</td>\n",
       "      <td>54.0</td>\n",
       "      <td>42.0</td>\n",
       "      <td>54.0</td>\n",
       "      <td>44.0</td>\n",
       "      <td>48.0</td>\n",
       "      <td>52.0</td>\n",
       "      <td>42.0</td>\n",
       "      <td>2019</td>\n",
       "      <td>0</td>\n",
       "      <td>0</td>\n",
       "      <td>C4</td>\n",
       "      <td>B3</td>\n",
       "      <td>B2</td>\n",
       "      <td>47.0</td>\n",
       "      <td>47.0</td>\n",
       "      <td>47.0</td>\n",
       "    </tr>\n",
       "    <tr>\n",
       "      <th>3</th>\n",
       "      <td>2040900419</td>\n",
       "      <td>43.0</td>\n",
       "      <td>40.0</td>\n",
       "      <td>41.0</td>\n",
       "      <td>43.0</td>\n",
       "      <td>51.0</td>\n",
       "      <td>43.0</td>\n",
       "      <td>39.0</td>\n",
       "      <td>45.0</td>\n",
       "      <td>44.0</td>\n",
       "      <td>2019</td>\n",
       "      <td>1</td>\n",
       "      <td>0</td>\n",
       "      <td>E8</td>\n",
       "      <td>D7</td>\n",
       "      <td>C4</td>\n",
       "      <td>41.0</td>\n",
       "      <td>46.0</td>\n",
       "      <td>43.0</td>\n",
       "    </tr>\n",
       "    <tr>\n",
       "      <th>4</th>\n",
       "      <td>2040900519</td>\n",
       "      <td>55.0</td>\n",
       "      <td>54.0</td>\n",
       "      <td>45.0</td>\n",
       "      <td>66.0</td>\n",
       "      <td>55.0</td>\n",
       "      <td>52.0</td>\n",
       "      <td>62.0</td>\n",
       "      <td>60.0</td>\n",
       "      <td>45.0</td>\n",
       "      <td>2019</td>\n",
       "      <td>1</td>\n",
       "      <td>0</td>\n",
       "      <td>F9</td>\n",
       "      <td>D7</td>\n",
       "      <td>C6</td>\n",
       "      <td>51.0</td>\n",
       "      <td>58.0</td>\n",
       "      <td>56.0</td>\n",
       "    </tr>\n",
       "  </tbody>\n",
       "</table>\n",
       "</div>"
      ],
      "text/plain": [
       "    INDEX NO.  f1_eng  f2_eng  f3_eng  f1_math  f2_math  f3_math  f1_sci  \\\n",
       "0  2040900119    45.0    41.0    44.0     51.0     47.0     41.0    40.0   \n",
       "1  2040900219    56.0    57.0    60.0     52.0     44.0     51.0    43.0   \n",
       "2  2040900319    41.0    45.0    54.0     42.0     54.0     44.0    48.0   \n",
       "3  2040900419    43.0    40.0    41.0     43.0     51.0     43.0    39.0   \n",
       "4  2040900519    55.0    54.0    45.0     66.0     55.0     52.0    62.0   \n",
       "\n",
       "   f2_sci  f3_sci  Year  GENDER  PROGRAM ENGLISH MATHEMATICS INT.SCI  AVG_Eng  \\\n",
       "0    45.0    69.0  2019       0        0      B2          D7      B3     43.0   \n",
       "1    54.0    55.0  2019       0        0      C5          B3      B3     58.0   \n",
       "2    52.0    42.0  2019       0        0      C4          B3      B2     47.0   \n",
       "3    45.0    44.0  2019       1        0      E8          D7      C4     41.0   \n",
       "4    60.0    45.0  2019       1        0      F9          D7      C6     51.0   \n",
       "\n",
       "   AVG_Math  AVG_Sci  \n",
       "0      46.0     51.0  \n",
       "1      49.0     51.0  \n",
       "2      47.0     47.0  \n",
       "3      46.0     43.0  \n",
       "4      58.0     56.0  "
      ]
     },
     "execution_count": 237,
     "metadata": {},
     "output_type": "execute_result"
    }
   ],
   "source": [
    "full_table1.head()"
   ]
  },
  {
   "cell_type": "markdown",
   "id": "0ef39ff4",
   "metadata": {},
   "source": [
    "English Performance Prediction"
   ]
  },
  {
   "cell_type": "code",
   "execution_count": 423,
   "id": "dfa4ba37",
   "metadata": {},
   "outputs": [],
   "source": [
    "eng =full_table1.drop(full_table1.loc[:, 'f1_math':'f3_sci'].columns, axis=1)"
   ]
  },
  {
   "cell_type": "code",
   "execution_count": 424,
   "id": "d73ddf8d",
   "metadata": {},
   "outputs": [],
   "source": [
    "eng =eng.drop(eng.loc[:, 'MATHEMATICS':].columns, axis=1)"
   ]
  },
  {
   "cell_type": "code",
   "execution_count": 425,
   "id": "2bdf4878",
   "metadata": {},
   "outputs": [],
   "source": [
    "\n",
    "\n",
    "def yes_no(convert):\n",
    "    dd1 = []\n",
    "    for d in convert:\n",
    "        if d in [\"A1\",\"B2\",\"B3\", \"C4\", \"C5\", \"C6\"]:\n",
    "            dd1.append(\"Yes\")\n",
    "        else:\n",
    "            dd1.append(\"No\")\n",
    "    return dd1\n",
    "    "
   ]
  },
  {
   "cell_type": "code",
   "execution_count": 426,
   "id": "b8e4fe3d",
   "metadata": {},
   "outputs": [],
   "source": [
    "eng1 = yes_no(list(eng[\"ENGLISH\"]))\n",
    "eng[\"Pass/Fail\"] = eng1"
   ]
  },
  {
   "cell_type": "code",
   "execution_count": 427,
   "id": "a8b39491",
   "metadata": {},
   "outputs": [
    {
     "data": {
      "text/html": [
       "<div>\n",
       "<style scoped>\n",
       "    .dataframe tbody tr th:only-of-type {\n",
       "        vertical-align: middle;\n",
       "    }\n",
       "\n",
       "    .dataframe tbody tr th {\n",
       "        vertical-align: top;\n",
       "    }\n",
       "\n",
       "    .dataframe thead th {\n",
       "        text-align: right;\n",
       "    }\n",
       "</style>\n",
       "<table border=\"1\" class=\"dataframe\">\n",
       "  <thead>\n",
       "    <tr style=\"text-align: right;\">\n",
       "      <th></th>\n",
       "      <th>INDEX NO.</th>\n",
       "      <th>f1_eng</th>\n",
       "      <th>f2_eng</th>\n",
       "      <th>f3_eng</th>\n",
       "      <th>Year</th>\n",
       "      <th>GENDER</th>\n",
       "      <th>PROGRAM</th>\n",
       "      <th>ENGLISH</th>\n",
       "      <th>Pass/Fail</th>\n",
       "    </tr>\n",
       "  </thead>\n",
       "  <tbody>\n",
       "    <tr>\n",
       "      <th>0</th>\n",
       "      <td>2040900119</td>\n",
       "      <td>45.0</td>\n",
       "      <td>41.0</td>\n",
       "      <td>44.0</td>\n",
       "      <td>2019</td>\n",
       "      <td>0</td>\n",
       "      <td>0</td>\n",
       "      <td>B2</td>\n",
       "      <td>Yes</td>\n",
       "    </tr>\n",
       "    <tr>\n",
       "      <th>1</th>\n",
       "      <td>2040900219</td>\n",
       "      <td>56.0</td>\n",
       "      <td>57.0</td>\n",
       "      <td>60.0</td>\n",
       "      <td>2019</td>\n",
       "      <td>0</td>\n",
       "      <td>0</td>\n",
       "      <td>C5</td>\n",
       "      <td>Yes</td>\n",
       "    </tr>\n",
       "    <tr>\n",
       "      <th>2</th>\n",
       "      <td>2040900319</td>\n",
       "      <td>41.0</td>\n",
       "      <td>45.0</td>\n",
       "      <td>54.0</td>\n",
       "      <td>2019</td>\n",
       "      <td>0</td>\n",
       "      <td>0</td>\n",
       "      <td>C4</td>\n",
       "      <td>Yes</td>\n",
       "    </tr>\n",
       "    <tr>\n",
       "      <th>3</th>\n",
       "      <td>2040900419</td>\n",
       "      <td>43.0</td>\n",
       "      <td>40.0</td>\n",
       "      <td>41.0</td>\n",
       "      <td>2019</td>\n",
       "      <td>1</td>\n",
       "      <td>0</td>\n",
       "      <td>E8</td>\n",
       "      <td>No</td>\n",
       "    </tr>\n",
       "    <tr>\n",
       "      <th>4</th>\n",
       "      <td>2040900519</td>\n",
       "      <td>55.0</td>\n",
       "      <td>54.0</td>\n",
       "      <td>45.0</td>\n",
       "      <td>2019</td>\n",
       "      <td>1</td>\n",
       "      <td>0</td>\n",
       "      <td>F9</td>\n",
       "      <td>No</td>\n",
       "    </tr>\n",
       "    <tr>\n",
       "      <th>...</th>\n",
       "      <td>...</td>\n",
       "      <td>...</td>\n",
       "      <td>...</td>\n",
       "      <td>...</td>\n",
       "      <td>...</td>\n",
       "      <td>...</td>\n",
       "      <td>...</td>\n",
       "      <td>...</td>\n",
       "      <td>...</td>\n",
       "    </tr>\n",
       "    <tr>\n",
       "      <th>1087</th>\n",
       "      <td>2040936221</td>\n",
       "      <td>45.0</td>\n",
       "      <td>43.0</td>\n",
       "      <td>30.0</td>\n",
       "      <td>2021</td>\n",
       "      <td>1</td>\n",
       "      <td>0</td>\n",
       "      <td>F9</td>\n",
       "      <td>No</td>\n",
       "    </tr>\n",
       "    <tr>\n",
       "      <th>1088</th>\n",
       "      <td>2040936321</td>\n",
       "      <td>56.0</td>\n",
       "      <td>45.0</td>\n",
       "      <td>41.0</td>\n",
       "      <td>2021</td>\n",
       "      <td>0</td>\n",
       "      <td>5</td>\n",
       "      <td>F9</td>\n",
       "      <td>No</td>\n",
       "    </tr>\n",
       "    <tr>\n",
       "      <th>1089</th>\n",
       "      <td>2040936421</td>\n",
       "      <td>67.0</td>\n",
       "      <td>66.0</td>\n",
       "      <td>55.0</td>\n",
       "      <td>2021</td>\n",
       "      <td>0</td>\n",
       "      <td>0</td>\n",
       "      <td>F9</td>\n",
       "      <td>No</td>\n",
       "    </tr>\n",
       "    <tr>\n",
       "      <th>1090</th>\n",
       "      <td>2040936521</td>\n",
       "      <td>34.0</td>\n",
       "      <td>44.0</td>\n",
       "      <td>19.0</td>\n",
       "      <td>2021</td>\n",
       "      <td>0</td>\n",
       "      <td>0</td>\n",
       "      <td>E8</td>\n",
       "      <td>No</td>\n",
       "    </tr>\n",
       "    <tr>\n",
       "      <th>1091</th>\n",
       "      <td>2040936621</td>\n",
       "      <td>21.0</td>\n",
       "      <td>24.0</td>\n",
       "      <td>45.0</td>\n",
       "      <td>2021</td>\n",
       "      <td>1</td>\n",
       "      <td>0</td>\n",
       "      <td>E8</td>\n",
       "      <td>No</td>\n",
       "    </tr>\n",
       "  </tbody>\n",
       "</table>\n",
       "<p>1055 rows × 9 columns</p>\n",
       "</div>"
      ],
      "text/plain": [
       "       INDEX NO.  f1_eng  f2_eng  f3_eng  Year  GENDER  PROGRAM ENGLISH  \\\n",
       "0     2040900119    45.0    41.0    44.0  2019       0        0      B2   \n",
       "1     2040900219    56.0    57.0    60.0  2019       0        0      C5   \n",
       "2     2040900319    41.0    45.0    54.0  2019       0        0      C4   \n",
       "3     2040900419    43.0    40.0    41.0  2019       1        0      E8   \n",
       "4     2040900519    55.0    54.0    45.0  2019       1        0      F9   \n",
       "...          ...     ...     ...     ...   ...     ...      ...     ...   \n",
       "1087  2040936221    45.0    43.0    30.0  2021       1        0      F9   \n",
       "1088  2040936321    56.0    45.0    41.0  2021       0        5      F9   \n",
       "1089  2040936421    67.0    66.0    55.0  2021       0        0      F9   \n",
       "1090  2040936521    34.0    44.0    19.0  2021       0        0      E8   \n",
       "1091  2040936621    21.0    24.0    45.0  2021       1        0      E8   \n",
       "\n",
       "     Pass/Fail  \n",
       "0          Yes  \n",
       "1          Yes  \n",
       "2          Yes  \n",
       "3           No  \n",
       "4           No  \n",
       "...        ...  \n",
       "1087        No  \n",
       "1088        No  \n",
       "1089        No  \n",
       "1090        No  \n",
       "1091        No  \n",
       "\n",
       "[1055 rows x 9 columns]"
      ]
     },
     "execution_count": 427,
     "metadata": {},
     "output_type": "execute_result"
    }
   ],
   "source": [
    "eng"
   ]
  },
  {
   "cell_type": "markdown",
   "id": "04d0051f",
   "metadata": {},
   "source": [
    "Mathematics Performaance Prediction"
   ]
  },
  {
   "cell_type": "code",
   "execution_count": 428,
   "id": "3280144f",
   "metadata": {},
   "outputs": [],
   "source": [
    "math =full_table1.drop(full_table1.loc[:, 'INDEX NO.':'f3_eng'].columns, axis=1)"
   ]
  },
  {
   "cell_type": "code",
   "execution_count": 429,
   "id": "fbfdf497",
   "metadata": {},
   "outputs": [],
   "source": [
    "math =math.drop(math.loc[:, 'f1_sci':'f3_sci'].columns, axis=1)"
   ]
  },
  {
   "cell_type": "code",
   "execution_count": 430,
   "id": "f2753f4a",
   "metadata": {},
   "outputs": [],
   "source": [
    "math=math.drop(math.loc[:, 'INT.SCI':].columns, axis=1)"
   ]
  },
  {
   "cell_type": "code",
   "execution_count": 431,
   "id": "bdb9fade",
   "metadata": {},
   "outputs": [],
   "source": [
    "math.drop('ENGLISH',axis =1, inplace = True)"
   ]
  },
  {
   "cell_type": "code",
   "execution_count": 433,
   "id": "308cd70c",
   "metadata": {},
   "outputs": [],
   "source": [
    "math1 = yes_no(list(math[\"MATHEMATICS\"]))\n",
    "math[\"Pass/Fail\"] = math1"
   ]
  },
  {
   "cell_type": "code",
   "execution_count": 434,
   "id": "92ab59bf",
   "metadata": {},
   "outputs": [
    {
     "data": {
      "text/html": [
       "<div>\n",
       "<style scoped>\n",
       "    .dataframe tbody tr th:only-of-type {\n",
       "        vertical-align: middle;\n",
       "    }\n",
       "\n",
       "    .dataframe tbody tr th {\n",
       "        vertical-align: top;\n",
       "    }\n",
       "\n",
       "    .dataframe thead th {\n",
       "        text-align: right;\n",
       "    }\n",
       "</style>\n",
       "<table border=\"1\" class=\"dataframe\">\n",
       "  <thead>\n",
       "    <tr style=\"text-align: right;\">\n",
       "      <th></th>\n",
       "      <th>f1_math</th>\n",
       "      <th>f2_math</th>\n",
       "      <th>f3_math</th>\n",
       "      <th>Year</th>\n",
       "      <th>GENDER</th>\n",
       "      <th>PROGRAM</th>\n",
       "      <th>MATHEMATICS</th>\n",
       "      <th>Pass/Fail</th>\n",
       "    </tr>\n",
       "  </thead>\n",
       "  <tbody>\n",
       "    <tr>\n",
       "      <th>0</th>\n",
       "      <td>51.0</td>\n",
       "      <td>47.0</td>\n",
       "      <td>41.0</td>\n",
       "      <td>2019</td>\n",
       "      <td>0</td>\n",
       "      <td>0</td>\n",
       "      <td>D7</td>\n",
       "      <td>No</td>\n",
       "    </tr>\n",
       "    <tr>\n",
       "      <th>1</th>\n",
       "      <td>52.0</td>\n",
       "      <td>44.0</td>\n",
       "      <td>51.0</td>\n",
       "      <td>2019</td>\n",
       "      <td>0</td>\n",
       "      <td>0</td>\n",
       "      <td>B3</td>\n",
       "      <td>Yes</td>\n",
       "    </tr>\n",
       "    <tr>\n",
       "      <th>2</th>\n",
       "      <td>42.0</td>\n",
       "      <td>54.0</td>\n",
       "      <td>44.0</td>\n",
       "      <td>2019</td>\n",
       "      <td>0</td>\n",
       "      <td>0</td>\n",
       "      <td>B3</td>\n",
       "      <td>Yes</td>\n",
       "    </tr>\n",
       "    <tr>\n",
       "      <th>3</th>\n",
       "      <td>43.0</td>\n",
       "      <td>51.0</td>\n",
       "      <td>43.0</td>\n",
       "      <td>2019</td>\n",
       "      <td>1</td>\n",
       "      <td>0</td>\n",
       "      <td>D7</td>\n",
       "      <td>No</td>\n",
       "    </tr>\n",
       "    <tr>\n",
       "      <th>4</th>\n",
       "      <td>66.0</td>\n",
       "      <td>55.0</td>\n",
       "      <td>52.0</td>\n",
       "      <td>2019</td>\n",
       "      <td>1</td>\n",
       "      <td>0</td>\n",
       "      <td>D7</td>\n",
       "      <td>No</td>\n",
       "    </tr>\n",
       "    <tr>\n",
       "      <th>...</th>\n",
       "      <td>...</td>\n",
       "      <td>...</td>\n",
       "      <td>...</td>\n",
       "      <td>...</td>\n",
       "      <td>...</td>\n",
       "      <td>...</td>\n",
       "      <td>...</td>\n",
       "      <td>...</td>\n",
       "    </tr>\n",
       "    <tr>\n",
       "      <th>1087</th>\n",
       "      <td>56.0</td>\n",
       "      <td>49.0</td>\n",
       "      <td>30.0</td>\n",
       "      <td>2021</td>\n",
       "      <td>1</td>\n",
       "      <td>0</td>\n",
       "      <td>F9</td>\n",
       "      <td>No</td>\n",
       "    </tr>\n",
       "    <tr>\n",
       "      <th>1088</th>\n",
       "      <td>77.0</td>\n",
       "      <td>76.0</td>\n",
       "      <td>74.0</td>\n",
       "      <td>2021</td>\n",
       "      <td>0</td>\n",
       "      <td>5</td>\n",
       "      <td>F9</td>\n",
       "      <td>No</td>\n",
       "    </tr>\n",
       "    <tr>\n",
       "      <th>1089</th>\n",
       "      <td>48.0</td>\n",
       "      <td>47.0</td>\n",
       "      <td>49.0</td>\n",
       "      <td>2021</td>\n",
       "      <td>0</td>\n",
       "      <td>0</td>\n",
       "      <td>E8</td>\n",
       "      <td>No</td>\n",
       "    </tr>\n",
       "    <tr>\n",
       "      <th>1090</th>\n",
       "      <td>37.0</td>\n",
       "      <td>38.0</td>\n",
       "      <td>34.0</td>\n",
       "      <td>2021</td>\n",
       "      <td>0</td>\n",
       "      <td>0</td>\n",
       "      <td>F9</td>\n",
       "      <td>No</td>\n",
       "    </tr>\n",
       "    <tr>\n",
       "      <th>1091</th>\n",
       "      <td>34.0</td>\n",
       "      <td>47.0</td>\n",
       "      <td>35.0</td>\n",
       "      <td>2021</td>\n",
       "      <td>1</td>\n",
       "      <td>0</td>\n",
       "      <td>F9</td>\n",
       "      <td>No</td>\n",
       "    </tr>\n",
       "  </tbody>\n",
       "</table>\n",
       "<p>1055 rows × 8 columns</p>\n",
       "</div>"
      ],
      "text/plain": [
       "      f1_math  f2_math  f3_math  Year  GENDER  PROGRAM MATHEMATICS Pass/Fail\n",
       "0        51.0     47.0     41.0  2019       0        0          D7        No\n",
       "1        52.0     44.0     51.0  2019       0        0          B3       Yes\n",
       "2        42.0     54.0     44.0  2019       0        0          B3       Yes\n",
       "3        43.0     51.0     43.0  2019       1        0          D7        No\n",
       "4        66.0     55.0     52.0  2019       1        0          D7        No\n",
       "...       ...      ...      ...   ...     ...      ...         ...       ...\n",
       "1087     56.0     49.0     30.0  2021       1        0          F9        No\n",
       "1088     77.0     76.0     74.0  2021       0        5          F9        No\n",
       "1089     48.0     47.0     49.0  2021       0        0          E8        No\n",
       "1090     37.0     38.0     34.0  2021       0        0          F9        No\n",
       "1091     34.0     47.0     35.0  2021       1        0          F9        No\n",
       "\n",
       "[1055 rows x 8 columns]"
      ]
     },
     "execution_count": 434,
     "metadata": {},
     "output_type": "execute_result"
    }
   ],
   "source": [
    "math"
   ]
  },
  {
   "cell_type": "markdown",
   "id": "93c5c8af",
   "metadata": {},
   "source": [
    "Science Performaance Prediction"
   ]
  },
  {
   "cell_type": "code",
   "execution_count": 439,
   "id": "52510272",
   "metadata": {},
   "outputs": [],
   "source": [
    "science =full_table1.drop(full_table1.loc[:, 'INDEX NO.':'f3_math'].columns, axis=1)"
   ]
  },
  {
   "cell_type": "code",
   "execution_count": 440,
   "id": "23f85773",
   "metadata": {},
   "outputs": [],
   "source": [
    "science =science.drop(science.loc[:, 'ENGLISH':'MATHEMATICS'].columns, axis=1)\n",
    "science =science.drop(science.loc[:, 'AVG_Eng':'AVG_Sci'].columns, axis=1)\n"
   ]
  },
  {
   "cell_type": "code",
   "execution_count": 441,
   "id": "f3288505",
   "metadata": {},
   "outputs": [],
   "source": [
    "sci1 = yes_no(list(science[\"INT.SCI\"]))\n",
    "science[\"Pass/Fail\"] = sci1"
   ]
  },
  {
   "cell_type": "code",
   "execution_count": 442,
   "id": "90a0ce42",
   "metadata": {},
   "outputs": [
    {
     "data": {
      "text/html": [
       "<div>\n",
       "<style scoped>\n",
       "    .dataframe tbody tr th:only-of-type {\n",
       "        vertical-align: middle;\n",
       "    }\n",
       "\n",
       "    .dataframe tbody tr th {\n",
       "        vertical-align: top;\n",
       "    }\n",
       "\n",
       "    .dataframe thead th {\n",
       "        text-align: right;\n",
       "    }\n",
       "</style>\n",
       "<table border=\"1\" class=\"dataframe\">\n",
       "  <thead>\n",
       "    <tr style=\"text-align: right;\">\n",
       "      <th></th>\n",
       "      <th>f1_sci</th>\n",
       "      <th>f2_sci</th>\n",
       "      <th>f3_sci</th>\n",
       "      <th>Year</th>\n",
       "      <th>GENDER</th>\n",
       "      <th>PROGRAM</th>\n",
       "      <th>INT.SCI</th>\n",
       "      <th>Pass/Fail</th>\n",
       "    </tr>\n",
       "  </thead>\n",
       "  <tbody>\n",
       "    <tr>\n",
       "      <th>0</th>\n",
       "      <td>40.0</td>\n",
       "      <td>45.0</td>\n",
       "      <td>69.0</td>\n",
       "      <td>2019</td>\n",
       "      <td>0</td>\n",
       "      <td>0</td>\n",
       "      <td>B3</td>\n",
       "      <td>Yes</td>\n",
       "    </tr>\n",
       "    <tr>\n",
       "      <th>1</th>\n",
       "      <td>43.0</td>\n",
       "      <td>54.0</td>\n",
       "      <td>55.0</td>\n",
       "      <td>2019</td>\n",
       "      <td>0</td>\n",
       "      <td>0</td>\n",
       "      <td>B3</td>\n",
       "      <td>Yes</td>\n",
       "    </tr>\n",
       "    <tr>\n",
       "      <th>2</th>\n",
       "      <td>48.0</td>\n",
       "      <td>52.0</td>\n",
       "      <td>42.0</td>\n",
       "      <td>2019</td>\n",
       "      <td>0</td>\n",
       "      <td>0</td>\n",
       "      <td>B2</td>\n",
       "      <td>Yes</td>\n",
       "    </tr>\n",
       "    <tr>\n",
       "      <th>3</th>\n",
       "      <td>39.0</td>\n",
       "      <td>45.0</td>\n",
       "      <td>44.0</td>\n",
       "      <td>2019</td>\n",
       "      <td>1</td>\n",
       "      <td>0</td>\n",
       "      <td>C4</td>\n",
       "      <td>Yes</td>\n",
       "    </tr>\n",
       "    <tr>\n",
       "      <th>4</th>\n",
       "      <td>62.0</td>\n",
       "      <td>60.0</td>\n",
       "      <td>45.0</td>\n",
       "      <td>2019</td>\n",
       "      <td>1</td>\n",
       "      <td>0</td>\n",
       "      <td>C6</td>\n",
       "      <td>Yes</td>\n",
       "    </tr>\n",
       "    <tr>\n",
       "      <th>...</th>\n",
       "      <td>...</td>\n",
       "      <td>...</td>\n",
       "      <td>...</td>\n",
       "      <td>...</td>\n",
       "      <td>...</td>\n",
       "      <td>...</td>\n",
       "      <td>...</td>\n",
       "      <td>...</td>\n",
       "    </tr>\n",
       "    <tr>\n",
       "      <th>1087</th>\n",
       "      <td>50.0</td>\n",
       "      <td>48.0</td>\n",
       "      <td>44.0</td>\n",
       "      <td>2021</td>\n",
       "      <td>1</td>\n",
       "      <td>0</td>\n",
       "      <td>E8</td>\n",
       "      <td>No</td>\n",
       "    </tr>\n",
       "    <tr>\n",
       "      <th>1088</th>\n",
       "      <td>67.0</td>\n",
       "      <td>55.0</td>\n",
       "      <td>56.0</td>\n",
       "      <td>2021</td>\n",
       "      <td>0</td>\n",
       "      <td>5</td>\n",
       "      <td>D7</td>\n",
       "      <td>No</td>\n",
       "    </tr>\n",
       "    <tr>\n",
       "      <th>1089</th>\n",
       "      <td>51.0</td>\n",
       "      <td>41.0</td>\n",
       "      <td>30.0</td>\n",
       "      <td>2021</td>\n",
       "      <td>0</td>\n",
       "      <td>0</td>\n",
       "      <td>D7</td>\n",
       "      <td>No</td>\n",
       "    </tr>\n",
       "    <tr>\n",
       "      <th>1090</th>\n",
       "      <td>42.0</td>\n",
       "      <td>23.0</td>\n",
       "      <td>20.0</td>\n",
       "      <td>2021</td>\n",
       "      <td>0</td>\n",
       "      <td>0</td>\n",
       "      <td>D7</td>\n",
       "      <td>No</td>\n",
       "    </tr>\n",
       "    <tr>\n",
       "      <th>1091</th>\n",
       "      <td>41.0</td>\n",
       "      <td>33.0</td>\n",
       "      <td>38.0</td>\n",
       "      <td>2021</td>\n",
       "      <td>1</td>\n",
       "      <td>0</td>\n",
       "      <td>D7</td>\n",
       "      <td>No</td>\n",
       "    </tr>\n",
       "  </tbody>\n",
       "</table>\n",
       "<p>1055 rows × 8 columns</p>\n",
       "</div>"
      ],
      "text/plain": [
       "      f1_sci  f2_sci  f3_sci  Year  GENDER  PROGRAM INT.SCI Pass/Fail\n",
       "0       40.0    45.0    69.0  2019       0        0      B3       Yes\n",
       "1       43.0    54.0    55.0  2019       0        0      B3       Yes\n",
       "2       48.0    52.0    42.0  2019       0        0      B2       Yes\n",
       "3       39.0    45.0    44.0  2019       1        0      C4       Yes\n",
       "4       62.0    60.0    45.0  2019       1        0      C6       Yes\n",
       "...      ...     ...     ...   ...     ...      ...     ...       ...\n",
       "1087    50.0    48.0    44.0  2021       1        0      E8        No\n",
       "1088    67.0    55.0    56.0  2021       0        5      D7        No\n",
       "1089    51.0    41.0    30.0  2021       0        0      D7        No\n",
       "1090    42.0    23.0    20.0  2021       0        0      D7        No\n",
       "1091    41.0    33.0    38.0  2021       1        0      D7        No\n",
       "\n",
       "[1055 rows x 8 columns]"
      ]
     },
     "execution_count": 442,
     "metadata": {},
     "output_type": "execute_result"
    }
   ],
   "source": [
    "science"
   ]
  },
  {
   "cell_type": "code",
   "execution_count": 443,
   "id": "8f27ca57",
   "metadata": {},
   "outputs": [],
   "source": [
    "## Specify the independent and dependent variable\n",
    "## X will be our independent variable\n",
    "X = math.iloc[:, 0:5].values\n",
    "\n",
    "## y will be our independent variable\n",
    "target_names= math.iloc[:, 7]\n",
    "y = pd.factorize(math.iloc[:, 7].values)[0]"
   ]
  },
  {
   "cell_type": "code",
   "execution_count": 486,
   "id": "2e105128",
   "metadata": {},
   "outputs": [],
   "source": [
    "from sklearn.model_selection import train_test_split\n",
    "X_train, X_test, y_train, y_test = train_test_split(X, y, test_size = 0.3)"
   ]
  },
  {
   "cell_type": "code",
   "execution_count": 487,
   "id": "79af024b",
   "metadata": {},
   "outputs": [
    {
     "data": {
      "text/plain": [
       "317"
      ]
     },
     "execution_count": 487,
     "metadata": {},
     "output_type": "execute_result"
    }
   ],
   "source": [
    "len(X_test)"
   ]
  },
  {
   "cell_type": "markdown",
   "id": "f6c51b33",
   "metadata": {},
   "source": [
    "# Using Random Forest for the prediction"
   ]
  },
  {
   "cell_type": "code",
   "execution_count": 446,
   "id": "654367ca",
   "metadata": {},
   "outputs": [
    {
     "data": {
      "text/plain": [
       "RandomForestClassifier()"
      ]
     },
     "execution_count": 446,
     "metadata": {},
     "output_type": "execute_result"
    }
   ],
   "source": [
    "from sklearn.ensemble import RandomForestClassifier\n",
    "model = RandomForestClassifier()\n",
    "model.fit(X_train, y_train)"
   ]
  },
  {
   "cell_type": "code",
   "execution_count": 447,
   "id": "f65383d1",
   "metadata": {},
   "outputs": [
    {
     "data": {
      "text/plain": [
       "0.978319783197832"
      ]
     },
     "execution_count": 447,
     "metadata": {},
     "output_type": "execute_result"
    }
   ],
   "source": [
    "model.score(X_train, y_train)"
   ]
  },
  {
   "cell_type": "code",
   "execution_count": 476,
   "id": "aec13aca",
   "metadata": {},
   "outputs": [
    {
     "name": "stdout",
     "output_type": "stream",
     "text": [
      "Using Random Forest model accuracy(in %): 61.61137440758294\n"
     ]
    }
   ],
   "source": [
    "y_predicted = model.predict(X_test) \n",
    "\n",
    "print(\"Using Random Forest model accuracy(in %):\", metrics.accuracy_score(y_test, y_predicted)*100)"
   ]
  },
  {
   "cell_type": "code",
   "execution_count": 449,
   "id": "10f86ba5",
   "metadata": {},
   "outputs": [
    {
     "data": {
      "text/plain": [
       "array([[163,  19],\n",
       "       [ 29, 106]])"
      ]
     },
     "execution_count": 449,
     "metadata": {},
     "output_type": "execute_result"
    }
   ],
   "source": [
    "from sklearn.metrics import confusion_matrix\n",
    "cm = confusion_matrix(y_test, y_predicted)\n",
    "cm"
   ]
  },
  {
   "cell_type": "code",
   "execution_count": null,
   "id": "5e803c9e",
   "metadata": {},
   "outputs": [],
   "source": []
  },
  {
   "cell_type": "code",
   "execution_count": 450,
   "id": "a2b0f3dd",
   "metadata": {},
   "outputs": [
    {
     "data": {
      "image/png": "[encoded data removed]",
      "text/plain": [
       "<Figure size 1600x700 with 2 Axes>"
      ]
     },
     "metadata": {},
     "output_type": "display_data"
    }
   ],
   "source": [
    "# Get and reshape confusion matrix data\n",
    "\n",
    "cm = cm.astype('float') / cm.sum(axis=1)[:, np.newaxis]\n",
    "\n",
    "# Build the plot\n",
    "plt.figure(figsize=(16,7))\n",
    "sns.set(font_scale=1.4)\n",
    "sns.heatmap(cm, annot=True, annot_kws={'size':10},\n",
    "            cmap=plt.cm.Greens, linewidths=0.2)\n",
    "plt.xlabel('Predicted label')\n",
    "plt.ylabel('True label')\n",
    "plt.title('Confusion Matrix for Random Forest Model')\n",
    "plt.show()"
   ]
  },
  {
   "cell_type": "code",
   "execution_count": 451,
   "id": "46fce540",
   "metadata": {},
   "outputs": [
    {
     "name": "stdout",
     "output_type": "stream",
     "text": [
      "              precision    recall  f1-score   support\n",
      "\n",
      "           0       0.85      0.90      0.87       182\n",
      "           1       0.85      0.79      0.82       135\n",
      "\n",
      "    accuracy                           0.85       317\n",
      "   macro avg       0.85      0.84      0.84       317\n",
      "weighted avg       0.85      0.85      0.85       317\n",
      "\n"
     ]
    }
   ],
   "source": [
    "from sklearn.metrics import classification_report\n",
    "print(classification_report(y_test, y_predicted))"
   ]
  },
  {
   "cell_type": "markdown",
   "id": "8ec23139",
   "metadata": {},
   "source": [
    "# Using Decision Tree for the prediction"
   ]
  },
  {
   "cell_type": "code",
   "execution_count": 452,
   "id": "6369ae9e",
   "metadata": {},
   "outputs": [],
   "source": [
    "from sklearn.model_selection import train_test_split\n",
    "X_train, X_test, y_train, y_test = train_test_split(X, y, test_size = 0.3)"
   ]
  },
  {
   "cell_type": "code",
   "execution_count": 453,
   "id": "9dcd3244",
   "metadata": {},
   "outputs": [],
   "source": [
    "#feature Scaling  \n",
    "from sklearn.preprocessing import StandardScaler    \n",
    "st_x= StandardScaler()  \n",
    "X_train= st_x.fit_transform(X_train)    \n",
    "X_test= st_x.transform(X_test)   "
   ]
  },
  {
   "cell_type": "code",
   "execution_count": 454,
   "id": "413b25e0",
   "metadata": {},
   "outputs": [
    {
     "data": {
      "text/plain": [
       "DecisionTreeClassifier(criterion='entropy', random_state=0)"
      ]
     },
     "execution_count": 454,
     "metadata": {},
     "output_type": "execute_result"
    }
   ],
   "source": [
    "#Fitting Decision Tree classifier to the training set  \n",
    "from sklearn.tree import DecisionTreeClassifier  \n",
    "classifier= DecisionTreeClassifier(criterion='entropy', random_state=0)  \n",
    "classifier.fit(X_train, y_train)"
   ]
  },
  {
   "cell_type": "code",
   "execution_count": 455,
   "id": "2039328e",
   "metadata": {},
   "outputs": [
    {
     "name": "stdout",
     "output_type": "stream",
     "text": [
      "Decision Tree model accuracy(in %): 82.64984227129337\n"
     ]
    }
   ],
   "source": [
    "#Predicting the test set result  \n",
    "y_predd= classifier.predict(X_test) \n",
    "\n",
    "print(\"Decision Tree model accuracy(in %):\", metrics.accuracy_score(y_test, y_predd)*100)"
   ]
  },
  {
   "cell_type": "code",
   "execution_count": 459,
   "id": "66c088db",
   "metadata": {},
   "outputs": [
    {
     "data": {
      "text/plain": [
       "array([[163,  34],\n",
       "       [ 21,  99]])"
      ]
     },
     "execution_count": 459,
     "metadata": {},
     "output_type": "execute_result"
    }
   ],
   "source": [
    "#Creating the Confusion matrix  \n",
    "from sklearn.metrics import confusion_matrix  \n",
    "cm= confusion_matrix(y_test, y_predd) \n",
    "cm"
   ]
  },
  {
   "cell_type": "code",
   "execution_count": 475,
   "id": "2ea93d5b",
   "metadata": {},
   "outputs": [
    {
     "data": {
      "image/png": "[encoded data removed]",
      "text/plain": [
       "<Figure size 1600x700 with 2 Axes>"
      ]
     },
     "metadata": {},
     "output_type": "display_data"
    }
   ],
   "source": [
    "# Get and reshape confusion matrix data\n",
    "\n",
    "cm = cm.astype('float') / cm.sum(axis=1)[:, np.newaxis]\n",
    "\n",
    "# Build the plot\n",
    "plt.figure(figsize=(16,7))\n",
    "sns.set(font_scale=1.4)\n",
    "sns.heatmap(cm, annot=True, annot_kws={'size':10},\n",
    "            cmap=plt.cm.Greens, linewidths=0.2)\n",
    "plt.xlabel('Predicted label')\n",
    "plt.ylabel('True label')\n",
    "plt.title('Confusion Matrix for Decision Tree Model')\n",
    "plt.show()"
   ]
  },
  {
   "cell_type": "code",
   "execution_count": 461,
   "id": "eb3cd899",
   "metadata": {},
   "outputs": [
    {
     "name": "stdout",
     "output_type": "stream",
     "text": [
      "              precision    recall  f1-score   support\n",
      "\n",
      "           0       0.89      0.83      0.86       197\n",
      "           1       0.74      0.82      0.78       120\n",
      "\n",
      "    accuracy                           0.83       317\n",
      "   macro avg       0.82      0.83      0.82       317\n",
      "weighted avg       0.83      0.83      0.83       317\n",
      "\n"
     ]
    }
   ],
   "source": [
    "from sklearn.metrics import classification_report\n",
    "print(classification_report(y_test, y_predd))"
   ]
  },
  {
   "cell_type": "markdown",
   "id": "7eca10ea",
   "metadata": {},
   "source": [
    "# Using Naive Bayes for the prediction"
   ]
  },
  {
   "cell_type": "code",
   "execution_count": 477,
   "id": "851abf9a",
   "metadata": {},
   "outputs": [],
   "source": [
    "from sklearn.model_selection import train_test_split\n",
    "X_train, X_test, y_train, y_test = train_test_split(X, y, test_size = 0.3)"
   ]
  },
  {
   "cell_type": "code",
   "execution_count": 478,
   "id": "a8cf15c3",
   "metadata": {},
   "outputs": [],
   "source": [
    "#feature Scaling  \n",
    "from sklearn.preprocessing import StandardScaler    \n",
    "st_x= StandardScaler()  \n",
    "X_train= st_x.fit_transform(X_train)    \n",
    "X_test= st_x.transform(X_test)  "
   ]
  },
  {
   "cell_type": "code",
   "execution_count": 479,
   "id": "3a5ac515",
   "metadata": {},
   "outputs": [
    {
     "data": {
      "text/plain": [
       "GaussianNB()"
      ]
     },
     "execution_count": 479,
     "metadata": {},
     "output_type": "execute_result"
    }
   ],
   "source": [
    "# training the model on training set\n",
    "from sklearn.naive_bayes import GaussianNB\n",
    "gnb = GaussianNB()\n",
    "gnb.fit(X_train, y_train)"
   ]
  },
  {
   "cell_type": "code",
   "execution_count": 480,
   "id": "4897b610",
   "metadata": {},
   "outputs": [
    {
     "name": "stdout",
     "output_type": "stream",
     "text": [
      "Gaussian Naive Bayes model accuracy(in %): 84.54258675078864\n"
     ]
    }
   ],
   "source": [
    "# making predictions on the testing set\n",
    "y_pred = gnb.predict(X_test)\n",
    "  \n",
    "# comparing actual response values (y_test) with predicted response values (y_pred)\n",
    "from sklearn import metrics\n",
    "print(\"Gaussian Naive Bayes model accuracy(in %):\", metrics.accuracy_score(y_test, y_pred)*100)"
   ]
  },
  {
   "cell_type": "code",
   "execution_count": 481,
   "id": "91bb3626",
   "metadata": {},
   "outputs": [
    {
     "data": {
      "text/plain": [
       "array([[171,  17],\n",
       "       [ 32,  97]])"
      ]
     },
     "execution_count": 481,
     "metadata": {},
     "output_type": "execute_result"
    }
   ],
   "source": [
    "#Creating the Confusion matrix  \n",
    "from sklearn.metrics import confusion_matrix  \n",
    "cm= confusion_matrix(y_test, y_pred) \n",
    "cm"
   ]
  },
  {
   "cell_type": "code",
   "execution_count": 482,
   "id": "feb13f49",
   "metadata": {},
   "outputs": [
    {
     "data": {
      "image/png": "[encoded data removed]",
      "text/plain": [
       "<Figure size 1600x700 with 2 Axes>"
      ]
     },
     "metadata": {},
     "output_type": "display_data"
    }
   ],
   "source": [
    "# Get and reshape confusion matrix data\n",
    "\n",
    "cm = cm.astype('float') / cm.sum(axis=1)[:, np.newaxis]\n",
    "\n",
    "# Build the plot\n",
    "plt.figure(figsize=(16,7))\n",
    "sns.set(font_scale=1.4)\n",
    "sns.heatmap(cm, annot=True, annot_kws={'size':10},\n",
    "            cmap=plt.cm.Greens, linewidths=0.2)\n",
    "plt.xlabel('Predicted label')\n",
    "plt.ylabel('True label')\n",
    "plt.title('Confusion Matrix for Naive Bayes Model')\n",
    "plt.show()"
   ]
  },
  {
   "cell_type": "code",
   "execution_count": 483,
   "id": "05668475",
   "metadata": {},
   "outputs": [
    {
     "name": "stdout",
     "output_type": "stream",
     "text": [
      "              precision    recall  f1-score   support\n",
      "\n",
      "           0       0.84      0.91      0.87       188\n",
      "           1       0.85      0.75      0.80       129\n",
      "\n",
      "    accuracy                           0.85       317\n",
      "   macro avg       0.85      0.83      0.84       317\n",
      "weighted avg       0.85      0.85      0.84       317\n",
      "\n"
     ]
    }
   ],
   "source": [
    "print(classification_report(y_test, y_pred))"
   ]
  },
  {
   "cell_type": "code",
   "execution_count": null,
   "id": "5b3fb1ab",
   "metadata": {},
   "outputs": [],
   "source": []
  }
 ],
 "metadata": {
  "kernelspec": {
   "display_name": "Python 3 (ipykernel)",
   "language": "python",
   "name": "python3"
  },
  "language_info": {
   "codemirror_mode": {
    "name": "ipython",
    "version": 3
   },
   "file_extension": ".py",
   "mimetype": "text/x-python",
   "name": "python",
   "nbconvert_exporter": "python",
   "pygments_lexer": "ipython3",
   "version": "3.9.13"
  }
 },
 "nbformat": 4,
 "nbformat_minor": 5
}
